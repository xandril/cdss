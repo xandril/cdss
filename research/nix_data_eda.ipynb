{
 "cells": [
  {
   "cell_type": "code",
   "execution_count": 2,
   "id": "initial_id",
   "metadata": {
    "collapsed": true,
    "ExecuteTime": {
     "end_time": "2024-03-28T12:33:13.601474500Z",
     "start_time": "2024-03-28T12:33:13.571331100Z"
    }
   },
   "outputs": [],
   "source": [
    "import numpy as np\n",
    "import pandas as pd\n",
    "\n",
    "df = pd.read_csv('C:\\\\Users\\\\azari\\\\Desktop\\\\diploma\\\\cdss\\\\data\\\\nih_data\\\\balanced_data.csv')\n",
    "df = df.rename(\n",
    "    dict(zip(df.columns.tolist(), ['image_idx', 'label', 'bbox_x', 'bbox_y', 'bbox_w', 'bbox_h', 'a', 'b', 'c'])),\n",
    "    axis='columns')\n",
    "df = df[['image_idx', 'label', 'bbox_x', 'bbox_y', 'bbox_w', 'bbox_h']]"
   ]
  },
  {
   "cell_type": "code",
   "execution_count": null,
   "outputs": [],
   "source": [
    "from pathlib import Path\n",
    "\n",
    "\n",
    "def parse_nih_data(csv_path:str | Path)->pd.DataFrame:\n",
    "    nih_df = pd.read_csv(csv_path)\n",
    "    nih_df = nih_df.rename(\n",
    "    dict(zip(nih_df.columns.tolist(), ['image_idx', 'label', 'bbox_x', 'bbox_y', 'bbox_w', 'bbox_h', 'a', 'b', 'c'])),\n",
    "    axis='columns')\n",
    "    nih_df = nih_df[['image_idx', 'label', 'bbox_x', 'bbox_y', 'bbox_w', 'bbox_h']]\n",
    "    return nih_df\n"
   ],
   "metadata": {
    "collapsed": false
   },
   "id": "e62fb9336658629c"
  },
  {
   "cell_type": "code",
   "execution_count": 18,
   "outputs": [],
   "source": [
    "import itertools\n",
    "label_list = list(df['label'])\n",
    "label_list = list(map(lambda x: x.split('|'), label_list))\n",
    "label_list  = list(itertools.chain(*label_list))\n",
    "label_set = set(label_list)"
   ],
   "metadata": {
    "collapsed": false,
    "ExecuteTime": {
     "end_time": "2024-03-28T12:37:02.779903100Z",
     "start_time": "2024-03-28T12:37:02.773898Z"
    }
   },
   "id": "47af3d8cf6287143"
  },
  {
   "cell_type": "code",
   "execution_count": 19,
   "outputs": [
    {
     "data": {
      "text/plain": "{'Atelectasis',\n 'Cardiomegaly',\n 'Consolidation',\n 'Edema',\n 'Effusion',\n 'Emphysema',\n 'Fibrosis',\n 'Hernia',\n 'Infiltration',\n 'Mass',\n 'Nodule',\n 'Pleural_Thickening',\n 'Pneumonia',\n 'Pneumothorax'}"
     },
     "execution_count": 19,
     "metadata": {},
     "output_type": "execute_result"
    }
   ],
   "source": [
    "label_set"
   ],
   "metadata": {
    "collapsed": false,
    "ExecuteTime": {
     "end_time": "2024-03-28T12:37:05.744290600Z",
     "start_time": "2024-03-28T12:37:05.721779Z"
    }
   },
   "id": "e4d2674656a4f392"
  },
  {
   "cell_type": "code",
   "execution_count": null,
   "outputs": [],
   "source": [],
   "metadata": {
    "collapsed": false
   },
   "id": "e273c80e92e7db6b"
  }
 ],
 "metadata": {
  "kernelspec": {
   "name": "cdss",
   "language": "python",
   "display_name": "cdss"
  },
  "language_info": {
   "codemirror_mode": {
    "name": "ipython",
    "version": 2
   },
   "file_extension": ".py",
   "mimetype": "text/x-python",
   "name": "python",
   "nbconvert_exporter": "python",
   "pygments_lexer": "ipython2",
   "version": "2.7.6"
  }
 },
 "nbformat": 4,
 "nbformat_minor": 5
}
