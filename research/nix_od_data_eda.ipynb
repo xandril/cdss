{
 "cells": [
  {
   "cell_type": "code",
   "execution_count": 42,
   "id": "initial_id",
   "metadata": {
    "collapsed": true,
    "ExecuteTime": {
     "end_time": "2024-03-29T08:39:54.546868700Z",
     "start_time": "2024-03-29T08:39:54.525420200Z"
    }
   },
   "outputs": [
    {
     "data": {
      "text/plain": "          image_index        label      bbox_x      bbox_y      bbox_w  \\\n0    00013118_008.png  Atelectasis  225.084746  547.019217   86.779661   \n1    00014716_007.png  Atelectasis  686.101695  131.543498  185.491525   \n2    00029817_009.png  Atelectasis  221.830508  317.053115  155.118644   \n3    00014687_001.png  Atelectasis  726.237288  494.951420  141.016949   \n4    00017877_001.png  Atelectasis  660.067797  569.780787  200.677966   \n..                ...          ...         ...         ...         ...   \n979  00029464_015.png  Atelectasis  198.940451  352.900747  615.537778   \n980  00025769_001.png  Atelectasis  701.838229  572.491858  103.537778   \n981  00016837_002.png  Atelectasis  140.913785  658.962969  271.928889   \n982  00020124_003.png  Atelectasis  175.047118  580.456302  244.622222   \n983  00026920_000.png  Atelectasis  343.438229  446.198524  120.604444   \n\n         bbox_w                                      image_path  \n0     86.779661  ..\\data\\nih_od_data\\od_images\\00013118_008.png  \n1    185.491525  ..\\data\\nih_od_data\\od_images\\00014716_007.png  \n2    155.118644  ..\\data\\nih_od_data\\od_images\\00029817_009.png  \n3    141.016949  ..\\data\\nih_od_data\\od_images\\00014687_001.png  \n4    200.677966  ..\\data\\nih_od_data\\od_images\\00017877_001.png  \n..          ...                                             ...  \n979  615.537778  ..\\data\\nih_od_data\\od_images\\00029464_015.png  \n980  103.537778  ..\\data\\nih_od_data\\od_images\\00025769_001.png  \n981  271.928889  ..\\data\\nih_od_data\\od_images\\00016837_002.png  \n982  244.622222  ..\\data\\nih_od_data\\od_images\\00020124_003.png  \n983  120.604444  ..\\data\\nih_od_data\\od_images\\00026920_000.png  \n\n[984 rows x 7 columns]",
      "text/html": "<div>\n<style scoped>\n    .dataframe tbody tr th:only-of-type {\n        vertical-align: middle;\n    }\n\n    .dataframe tbody tr th {\n        vertical-align: top;\n    }\n\n    .dataframe thead th {\n        text-align: right;\n    }\n</style>\n<table border=\"1\" class=\"dataframe\">\n  <thead>\n    <tr style=\"text-align: right;\">\n      <th></th>\n      <th>image_index</th>\n      <th>label</th>\n      <th>bbox_x</th>\n      <th>bbox_y</th>\n      <th>bbox_w</th>\n      <th>bbox_w</th>\n      <th>image_path</th>\n    </tr>\n  </thead>\n  <tbody>\n    <tr>\n      <th>0</th>\n      <td>00013118_008.png</td>\n      <td>Atelectasis</td>\n      <td>225.084746</td>\n      <td>547.019217</td>\n      <td>86.779661</td>\n      <td>86.779661</td>\n      <td>..\\data\\nih_od_data\\od_images\\00013118_008.png</td>\n    </tr>\n    <tr>\n      <th>1</th>\n      <td>00014716_007.png</td>\n      <td>Atelectasis</td>\n      <td>686.101695</td>\n      <td>131.543498</td>\n      <td>185.491525</td>\n      <td>185.491525</td>\n      <td>..\\data\\nih_od_data\\od_images\\00014716_007.png</td>\n    </tr>\n    <tr>\n      <th>2</th>\n      <td>00029817_009.png</td>\n      <td>Atelectasis</td>\n      <td>221.830508</td>\n      <td>317.053115</td>\n      <td>155.118644</td>\n      <td>155.118644</td>\n      <td>..\\data\\nih_od_data\\od_images\\00029817_009.png</td>\n    </tr>\n    <tr>\n      <th>3</th>\n      <td>00014687_001.png</td>\n      <td>Atelectasis</td>\n      <td>726.237288</td>\n      <td>494.951420</td>\n      <td>141.016949</td>\n      <td>141.016949</td>\n      <td>..\\data\\nih_od_data\\od_images\\00014687_001.png</td>\n    </tr>\n    <tr>\n      <th>4</th>\n      <td>00017877_001.png</td>\n      <td>Atelectasis</td>\n      <td>660.067797</td>\n      <td>569.780787</td>\n      <td>200.677966</td>\n      <td>200.677966</td>\n      <td>..\\data\\nih_od_data\\od_images\\00017877_001.png</td>\n    </tr>\n    <tr>\n      <th>...</th>\n      <td>...</td>\n      <td>...</td>\n      <td>...</td>\n      <td>...</td>\n      <td>...</td>\n      <td>...</td>\n      <td>...</td>\n    </tr>\n    <tr>\n      <th>979</th>\n      <td>00029464_015.png</td>\n      <td>Atelectasis</td>\n      <td>198.940451</td>\n      <td>352.900747</td>\n      <td>615.537778</td>\n      <td>615.537778</td>\n      <td>..\\data\\nih_od_data\\od_images\\00029464_015.png</td>\n    </tr>\n    <tr>\n      <th>980</th>\n      <td>00025769_001.png</td>\n      <td>Atelectasis</td>\n      <td>701.838229</td>\n      <td>572.491858</td>\n      <td>103.537778</td>\n      <td>103.537778</td>\n      <td>..\\data\\nih_od_data\\od_images\\00025769_001.png</td>\n    </tr>\n    <tr>\n      <th>981</th>\n      <td>00016837_002.png</td>\n      <td>Atelectasis</td>\n      <td>140.913785</td>\n      <td>658.962969</td>\n      <td>271.928889</td>\n      <td>271.928889</td>\n      <td>..\\data\\nih_od_data\\od_images\\00016837_002.png</td>\n    </tr>\n    <tr>\n      <th>982</th>\n      <td>00020124_003.png</td>\n      <td>Atelectasis</td>\n      <td>175.047118</td>\n      <td>580.456302</td>\n      <td>244.622222</td>\n      <td>244.622222</td>\n      <td>..\\data\\nih_od_data\\od_images\\00020124_003.png</td>\n    </tr>\n    <tr>\n      <th>983</th>\n      <td>00026920_000.png</td>\n      <td>Atelectasis</td>\n      <td>343.438229</td>\n      <td>446.198524</td>\n      <td>120.604444</td>\n      <td>120.604444</td>\n      <td>..\\data\\nih_od_data\\od_images\\00026920_000.png</td>\n    </tr>\n  </tbody>\n</table>\n<p>984 rows × 7 columns</p>\n</div>"
     },
     "execution_count": 42,
     "metadata": {},
     "output_type": "execute_result"
    }
   ],
   "source": [
    "from pathlib import Path\n",
    "\n",
    "import pandas as pd\n",
    "\n",
    "nix_data_path = Path('../data/nih_od_data/od_images')\n",
    "nix_csv_path = Path('../data/nih_od_data/bboxes_data.csv')\n",
    "\n",
    "\n",
    "def parse_nih_data(csv_path: Path, data_path: Path) -> pd.DataFrame:\n",
    "    nih_df = pd.read_csv(csv_path)\n",
    "    nih_df['image_path'] = nih_df['Image Index'].apply(lambda x: str(data_path / x))\n",
    "    nih_df = nih_df.rename(\n",
    "        columns={'Image Index': 'image_index', 'Finding Label': 'label', 'Bbox [x': 'bbox_x', 'y': 'bbox_y',\n",
    "                 'w': 'bbox_w', 'h': 'bbox_h'})\n",
    "    nih_df = nih_df[['image_index', 'label', 'bbox_x', 'bbox_y', 'bbox_w', \"bbox_w\", 'image_path']]\n",
    "\n",
    "    return nih_df\n",
    "\n",
    "\n",
    "df = parse_nih_data(csv_path=nix_csv_path, data_path=nix_data_path)\n",
    "df"
   ]
  },
  {
   "cell_type": "code",
   "execution_count": 47,
   "outputs": [
    {
     "data": {
      "text/plain": "(880, 984)"
     },
     "execution_count": 47,
     "metadata": {},
     "output_type": "execute_result"
    }
   ],
   "source": [
    "len(df.image_index.unique()), len(df)"
   ],
   "metadata": {
    "collapsed": false,
    "ExecuteTime": {
     "end_time": "2024-03-29T08:41:09.012774300Z",
     "start_time": "2024-03-29T08:41:09.005240900Z"
    }
   },
   "id": "18b7a2cb1f89841d"
  },
  {
   "cell_type": "code",
   "execution_count": 51,
   "outputs": [
    {
     "data": {
      "text/plain": "label\nAtelectasis     180\nEffusion        153\nCardiomegaly    146\nInfiltrate      123\nPneumonia       120\nPneumothorax     98\nMass             85\nNodule           79\nName: count, dtype: int64"
     },
     "execution_count": 51,
     "metadata": {},
     "output_type": "execute_result"
    }
   ],
   "source": [
    "df.label.value_counts()"
   ],
   "metadata": {
    "collapsed": false,
    "ExecuteTime": {
     "end_time": "2024-03-29T08:42:19.843803Z",
     "start_time": "2024-03-29T08:42:19.831286600Z"
    }
   },
   "id": "c33cc6df595b139c"
  },
  {
   "cell_type": "code",
   "execution_count": 53,
   "outputs": [
    {
     "data": {
      "application/vnd.plotly.v1+json": {
       "data": [
        {
         "alignmentgroup": "True",
         "bingroup": "x",
         "hovertemplate": "label=%{x}<br>count=%{y}<extra></extra>",
         "legendgroup": "",
         "marker": {
          "color": "#636efa",
          "pattern": {
           "shape": ""
          }
         },
         "name": "",
         "offsetgroup": "",
         "orientation": "v",
         "showlegend": false,
         "x": [
          "Atelectasis",
          "Atelectasis",
          "Atelectasis",
          "Atelectasis",
          "Atelectasis",
          "Atelectasis",
          "Atelectasis",
          "Atelectasis",
          "Atelectasis",
          "Atelectasis",
          "Atelectasis",
          "Atelectasis",
          "Atelectasis",
          "Atelectasis",
          "Atelectasis",
          "Atelectasis",
          "Atelectasis",
          "Atelectasis",
          "Atelectasis",
          "Atelectasis",
          "Atelectasis",
          "Atelectasis",
          "Atelectasis",
          "Atelectasis",
          "Atelectasis",
          "Atelectasis",
          "Atelectasis",
          "Atelectasis",
          "Atelectasis",
          "Atelectasis",
          "Atelectasis",
          "Atelectasis",
          "Atelectasis",
          "Atelectasis",
          "Atelectasis",
          "Atelectasis",
          "Atelectasis",
          "Atelectasis",
          "Atelectasis",
          "Atelectasis",
          "Atelectasis",
          "Atelectasis",
          "Atelectasis",
          "Atelectasis",
          "Atelectasis",
          "Atelectasis",
          "Atelectasis",
          "Atelectasis",
          "Atelectasis",
          "Atelectasis",
          "Atelectasis",
          "Atelectasis",
          "Atelectasis",
          "Atelectasis",
          "Atelectasis",
          "Atelectasis",
          "Atelectasis",
          "Atelectasis",
          "Atelectasis",
          "Atelectasis",
          "Atelectasis",
          "Atelectasis",
          "Atelectasis",
          "Atelectasis",
          "Atelectasis",
          "Atelectasis",
          "Atelectasis",
          "Atelectasis",
          "Atelectasis",
          "Atelectasis",
          "Atelectasis",
          "Atelectasis",
          "Atelectasis",
          "Atelectasis",
          "Atelectasis",
          "Atelectasis",
          "Atelectasis",
          "Atelectasis",
          "Atelectasis",
          "Atelectasis",
          "Atelectasis",
          "Atelectasis",
          "Atelectasis",
          "Atelectasis",
          "Atelectasis",
          "Atelectasis",
          "Atelectasis",
          "Atelectasis",
          "Atelectasis",
          "Atelectasis",
          "Atelectasis",
          "Atelectasis",
          "Atelectasis",
          "Atelectasis",
          "Atelectasis",
          "Atelectasis",
          "Atelectasis",
          "Atelectasis",
          "Atelectasis",
          "Atelectasis",
          "Atelectasis",
          "Atelectasis",
          "Atelectasis",
          "Atelectasis",
          "Atelectasis",
          "Atelectasis",
          "Atelectasis",
          "Atelectasis",
          "Atelectasis",
          "Atelectasis",
          "Atelectasis",
          "Atelectasis",
          "Atelectasis",
          "Atelectasis",
          "Atelectasis",
          "Atelectasis",
          "Atelectasis",
          "Atelectasis",
          "Atelectasis",
          "Atelectasis",
          "Atelectasis",
          "Atelectasis",
          "Atelectasis",
          "Atelectasis",
          "Atelectasis",
          "Atelectasis",
          "Atelectasis",
          "Atelectasis",
          "Atelectasis",
          "Atelectasis",
          "Atelectasis",
          "Atelectasis",
          "Atelectasis",
          "Atelectasis",
          "Atelectasis",
          "Atelectasis",
          "Atelectasis",
          "Atelectasis",
          "Atelectasis",
          "Atelectasis",
          "Atelectasis",
          "Atelectasis",
          "Atelectasis",
          "Atelectasis",
          "Atelectasis",
          "Atelectasis",
          "Atelectasis",
          "Atelectasis",
          "Atelectasis",
          "Atelectasis",
          "Atelectasis",
          "Atelectasis",
          "Atelectasis",
          "Atelectasis",
          "Atelectasis",
          "Atelectasis",
          "Atelectasis",
          "Atelectasis",
          "Atelectasis",
          "Atelectasis",
          "Atelectasis",
          "Atelectasis",
          "Atelectasis",
          "Atelectasis",
          "Atelectasis",
          "Atelectasis",
          "Atelectasis",
          "Atelectasis",
          "Atelectasis",
          "Atelectasis",
          "Atelectasis",
          "Atelectasis",
          "Atelectasis",
          "Atelectasis",
          "Atelectasis",
          "Atelectasis",
          "Atelectasis",
          "Atelectasis",
          "Atelectasis",
          "Atelectasis",
          "Cardiomegaly",
          "Cardiomegaly",
          "Cardiomegaly",
          "Cardiomegaly",
          "Cardiomegaly",
          "Cardiomegaly",
          "Cardiomegaly",
          "Cardiomegaly",
          "Cardiomegaly",
          "Cardiomegaly",
          "Cardiomegaly",
          "Cardiomegaly",
          "Cardiomegaly",
          "Cardiomegaly",
          "Cardiomegaly",
          "Cardiomegaly",
          "Cardiomegaly",
          "Cardiomegaly",
          "Cardiomegaly",
          "Cardiomegaly",
          "Cardiomegaly",
          "Cardiomegaly",
          "Cardiomegaly",
          "Cardiomegaly",
          "Cardiomegaly",
          "Cardiomegaly",
          "Cardiomegaly",
          "Cardiomegaly",
          "Cardiomegaly",
          "Cardiomegaly",
          "Cardiomegaly",
          "Cardiomegaly",
          "Cardiomegaly",
          "Cardiomegaly",
          "Cardiomegaly",
          "Cardiomegaly",
          "Cardiomegaly",
          "Cardiomegaly",
          "Cardiomegaly",
          "Cardiomegaly",
          "Cardiomegaly",
          "Cardiomegaly",
          "Cardiomegaly",
          "Cardiomegaly",
          "Cardiomegaly",
          "Cardiomegaly",
          "Cardiomegaly",
          "Cardiomegaly",
          "Cardiomegaly",
          "Cardiomegaly",
          "Cardiomegaly",
          "Cardiomegaly",
          "Cardiomegaly",
          "Cardiomegaly",
          "Cardiomegaly",
          "Cardiomegaly",
          "Cardiomegaly",
          "Cardiomegaly",
          "Cardiomegaly",
          "Cardiomegaly",
          "Cardiomegaly",
          "Cardiomegaly",
          "Cardiomegaly",
          "Cardiomegaly",
          "Cardiomegaly",
          "Cardiomegaly",
          "Cardiomegaly",
          "Cardiomegaly",
          "Cardiomegaly",
          "Cardiomegaly",
          "Cardiomegaly",
          "Cardiomegaly",
          "Cardiomegaly",
          "Cardiomegaly",
          "Cardiomegaly",
          "Cardiomegaly",
          "Cardiomegaly",
          "Cardiomegaly",
          "Cardiomegaly",
          "Cardiomegaly",
          "Cardiomegaly",
          "Cardiomegaly",
          "Cardiomegaly",
          "Cardiomegaly",
          "Cardiomegaly",
          "Cardiomegaly",
          "Cardiomegaly",
          "Cardiomegaly",
          "Cardiomegaly",
          "Cardiomegaly",
          "Cardiomegaly",
          "Cardiomegaly",
          "Cardiomegaly",
          "Cardiomegaly",
          "Cardiomegaly",
          "Cardiomegaly",
          "Cardiomegaly",
          "Cardiomegaly",
          "Cardiomegaly",
          "Cardiomegaly",
          "Cardiomegaly",
          "Cardiomegaly",
          "Cardiomegaly",
          "Cardiomegaly",
          "Cardiomegaly",
          "Cardiomegaly",
          "Cardiomegaly",
          "Cardiomegaly",
          "Cardiomegaly",
          "Cardiomegaly",
          "Cardiomegaly",
          "Cardiomegaly",
          "Cardiomegaly",
          "Cardiomegaly",
          "Cardiomegaly",
          "Cardiomegaly",
          "Cardiomegaly",
          "Cardiomegaly",
          "Cardiomegaly",
          "Cardiomegaly",
          "Cardiomegaly",
          "Cardiomegaly",
          "Cardiomegaly",
          "Cardiomegaly",
          "Cardiomegaly",
          "Cardiomegaly",
          "Cardiomegaly",
          "Cardiomegaly",
          "Cardiomegaly",
          "Cardiomegaly",
          "Cardiomegaly",
          "Cardiomegaly",
          "Cardiomegaly",
          "Cardiomegaly",
          "Cardiomegaly",
          "Cardiomegaly",
          "Cardiomegaly",
          "Cardiomegaly",
          "Cardiomegaly",
          "Cardiomegaly",
          "Cardiomegaly",
          "Cardiomegaly",
          "Cardiomegaly",
          "Cardiomegaly",
          "Cardiomegaly",
          "Cardiomegaly",
          "Effusion",
          "Effusion",
          "Effusion",
          "Effusion",
          "Effusion",
          "Effusion",
          "Effusion",
          "Effusion",
          "Effusion",
          "Effusion",
          "Effusion",
          "Effusion",
          "Effusion",
          "Effusion",
          "Effusion",
          "Effusion",
          "Effusion",
          "Effusion",
          "Effusion",
          "Effusion",
          "Effusion",
          "Effusion",
          "Effusion",
          "Effusion",
          "Effusion",
          "Effusion",
          "Effusion",
          "Effusion",
          "Effusion",
          "Effusion",
          "Effusion",
          "Effusion",
          "Effusion",
          "Effusion",
          "Effusion",
          "Effusion",
          "Effusion",
          "Effusion",
          "Effusion",
          "Effusion",
          "Effusion",
          "Effusion",
          "Effusion",
          "Effusion",
          "Effusion",
          "Effusion",
          "Effusion",
          "Effusion",
          "Effusion",
          "Effusion",
          "Effusion",
          "Effusion",
          "Effusion",
          "Effusion",
          "Effusion",
          "Effusion",
          "Effusion",
          "Effusion",
          "Effusion",
          "Effusion",
          "Effusion",
          "Effusion",
          "Effusion",
          "Effusion",
          "Effusion",
          "Effusion",
          "Effusion",
          "Effusion",
          "Effusion",
          "Effusion",
          "Effusion",
          "Effusion",
          "Effusion",
          "Effusion",
          "Effusion",
          "Effusion",
          "Effusion",
          "Effusion",
          "Effusion",
          "Effusion",
          "Effusion",
          "Effusion",
          "Effusion",
          "Effusion",
          "Effusion",
          "Effusion",
          "Effusion",
          "Effusion",
          "Effusion",
          "Effusion",
          "Effusion",
          "Effusion",
          "Effusion",
          "Effusion",
          "Effusion",
          "Effusion",
          "Effusion",
          "Effusion",
          "Effusion",
          "Effusion",
          "Effusion",
          "Effusion",
          "Effusion",
          "Effusion",
          "Effusion",
          "Effusion",
          "Effusion",
          "Effusion",
          "Effusion",
          "Effusion",
          "Effusion",
          "Effusion",
          "Effusion",
          "Effusion",
          "Effusion",
          "Effusion",
          "Effusion",
          "Effusion",
          "Effusion",
          "Effusion",
          "Effusion",
          "Effusion",
          "Effusion",
          "Effusion",
          "Effusion",
          "Effusion",
          "Effusion",
          "Effusion",
          "Effusion",
          "Effusion",
          "Effusion",
          "Effusion",
          "Effusion",
          "Effusion",
          "Effusion",
          "Effusion",
          "Effusion",
          "Effusion",
          "Effusion",
          "Effusion",
          "Effusion",
          "Effusion",
          "Effusion",
          "Effusion",
          "Effusion",
          "Effusion",
          "Effusion",
          "Effusion",
          "Effusion",
          "Effusion",
          "Effusion",
          "Effusion",
          "Effusion",
          "Infiltrate",
          "Infiltrate",
          "Infiltrate",
          "Infiltrate",
          "Infiltrate",
          "Infiltrate",
          "Infiltrate",
          "Infiltrate",
          "Infiltrate",
          "Infiltrate",
          "Infiltrate",
          "Infiltrate",
          "Infiltrate",
          "Infiltrate",
          "Infiltrate",
          "Infiltrate",
          "Infiltrate",
          "Infiltrate",
          "Infiltrate",
          "Infiltrate",
          "Infiltrate",
          "Infiltrate",
          "Infiltrate",
          "Infiltrate",
          "Infiltrate",
          "Infiltrate",
          "Infiltrate",
          "Infiltrate",
          "Infiltrate",
          "Infiltrate",
          "Infiltrate",
          "Infiltrate",
          "Infiltrate",
          "Infiltrate",
          "Infiltrate",
          "Infiltrate",
          "Infiltrate",
          "Infiltrate",
          "Infiltrate",
          "Infiltrate",
          "Infiltrate",
          "Infiltrate",
          "Infiltrate",
          "Infiltrate",
          "Infiltrate",
          "Infiltrate",
          "Infiltrate",
          "Infiltrate",
          "Infiltrate",
          "Infiltrate",
          "Infiltrate",
          "Infiltrate",
          "Infiltrate",
          "Infiltrate",
          "Infiltrate",
          "Infiltrate",
          "Infiltrate",
          "Infiltrate",
          "Infiltrate",
          "Infiltrate",
          "Infiltrate",
          "Infiltrate",
          "Infiltrate",
          "Infiltrate",
          "Infiltrate",
          "Infiltrate",
          "Infiltrate",
          "Infiltrate",
          "Infiltrate",
          "Infiltrate",
          "Infiltrate",
          "Infiltrate",
          "Infiltrate",
          "Infiltrate",
          "Infiltrate",
          "Infiltrate",
          "Infiltrate",
          "Infiltrate",
          "Infiltrate",
          "Infiltrate",
          "Infiltrate",
          "Infiltrate",
          "Infiltrate",
          "Infiltrate",
          "Infiltrate",
          "Infiltrate",
          "Infiltrate",
          "Infiltrate",
          "Infiltrate",
          "Infiltrate",
          "Infiltrate",
          "Infiltrate",
          "Infiltrate",
          "Infiltrate",
          "Infiltrate",
          "Infiltrate",
          "Infiltrate",
          "Infiltrate",
          "Infiltrate",
          "Infiltrate",
          "Infiltrate",
          "Infiltrate",
          "Infiltrate",
          "Infiltrate",
          "Infiltrate",
          "Infiltrate",
          "Infiltrate",
          "Infiltrate",
          "Infiltrate",
          "Infiltrate",
          "Infiltrate",
          "Infiltrate",
          "Infiltrate",
          "Infiltrate",
          "Infiltrate",
          "Infiltrate",
          "Infiltrate",
          "Infiltrate",
          "Infiltrate",
          "Infiltrate",
          "Infiltrate",
          "Infiltrate",
          "Infiltrate",
          "Mass",
          "Mass",
          "Mass",
          "Mass",
          "Mass",
          "Mass",
          "Mass",
          "Mass",
          "Mass",
          "Mass",
          "Mass",
          "Mass",
          "Mass",
          "Mass",
          "Mass",
          "Mass",
          "Mass",
          "Mass",
          "Mass",
          "Mass",
          "Mass",
          "Mass",
          "Mass",
          "Mass",
          "Mass",
          "Mass",
          "Mass",
          "Mass",
          "Mass",
          "Mass",
          "Mass",
          "Mass",
          "Mass",
          "Mass",
          "Mass",
          "Mass",
          "Mass",
          "Mass",
          "Mass",
          "Mass",
          "Mass",
          "Mass",
          "Mass",
          "Mass",
          "Mass",
          "Mass",
          "Mass",
          "Mass",
          "Mass",
          "Mass",
          "Mass",
          "Mass",
          "Mass",
          "Mass",
          "Mass",
          "Mass",
          "Mass",
          "Mass",
          "Mass",
          "Mass",
          "Mass",
          "Mass",
          "Mass",
          "Mass",
          "Mass",
          "Mass",
          "Mass",
          "Mass",
          "Mass",
          "Mass",
          "Mass",
          "Mass",
          "Mass",
          "Mass",
          "Mass",
          "Mass",
          "Mass",
          "Mass",
          "Mass",
          "Mass",
          "Mass",
          "Mass",
          "Mass",
          "Mass",
          "Mass",
          "Nodule",
          "Nodule",
          "Nodule",
          "Nodule",
          "Nodule",
          "Nodule",
          "Nodule",
          "Nodule",
          "Nodule",
          "Nodule",
          "Nodule",
          "Nodule",
          "Nodule",
          "Nodule",
          "Nodule",
          "Nodule",
          "Nodule",
          "Nodule",
          "Nodule",
          "Nodule",
          "Nodule",
          "Nodule",
          "Nodule",
          "Nodule",
          "Nodule",
          "Nodule",
          "Nodule",
          "Nodule",
          "Nodule",
          "Nodule",
          "Nodule",
          "Nodule",
          "Nodule",
          "Nodule",
          "Nodule",
          "Nodule",
          "Nodule",
          "Nodule",
          "Nodule",
          "Nodule",
          "Nodule",
          "Nodule",
          "Nodule",
          "Nodule",
          "Nodule",
          "Nodule",
          "Nodule",
          "Nodule",
          "Nodule",
          "Nodule",
          "Nodule",
          "Nodule",
          "Nodule",
          "Nodule",
          "Nodule",
          "Nodule",
          "Nodule",
          "Nodule",
          "Nodule",
          "Nodule",
          "Nodule",
          "Nodule",
          "Nodule",
          "Nodule",
          "Nodule",
          "Nodule",
          "Nodule",
          "Nodule",
          "Nodule",
          "Nodule",
          "Nodule",
          "Nodule",
          "Nodule",
          "Nodule",
          "Nodule",
          "Nodule",
          "Nodule",
          "Nodule",
          "Nodule",
          "Pneumonia",
          "Pneumonia",
          "Pneumonia",
          "Pneumonia",
          "Pneumonia",
          "Pneumonia",
          "Pneumonia",
          "Pneumonia",
          "Pneumonia",
          "Pneumonia",
          "Pneumonia",
          "Pneumonia",
          "Pneumonia",
          "Pneumonia",
          "Pneumonia",
          "Pneumonia",
          "Pneumonia",
          "Pneumonia",
          "Pneumonia",
          "Pneumonia",
          "Pneumonia",
          "Pneumonia",
          "Pneumonia",
          "Pneumonia",
          "Pneumonia",
          "Pneumonia",
          "Pneumonia",
          "Pneumonia",
          "Pneumonia",
          "Pneumonia",
          "Pneumonia",
          "Pneumonia",
          "Pneumonia",
          "Pneumonia",
          "Pneumonia",
          "Pneumonia",
          "Pneumonia",
          "Pneumonia",
          "Pneumonia",
          "Pneumonia",
          "Pneumonia",
          "Pneumonia",
          "Pneumonia",
          "Pneumonia",
          "Pneumonia",
          "Pneumonia",
          "Pneumonia",
          "Pneumonia",
          "Pneumonia",
          "Pneumonia",
          "Pneumonia",
          "Pneumonia",
          "Pneumonia",
          "Pneumonia",
          "Pneumonia",
          "Pneumonia",
          "Pneumonia",
          "Pneumonia",
          "Pneumonia",
          "Pneumonia",
          "Pneumonia",
          "Pneumonia",
          "Pneumonia",
          "Pneumonia",
          "Pneumonia",
          "Pneumonia",
          "Pneumonia",
          "Pneumonia",
          "Pneumonia",
          "Pneumonia",
          "Pneumonia",
          "Pneumonia",
          "Pneumonia",
          "Pneumonia",
          "Pneumonia",
          "Pneumonia",
          "Pneumonia",
          "Pneumonia",
          "Pneumonia",
          "Pneumonia",
          "Pneumonia",
          "Pneumonia",
          "Pneumonia",
          "Pneumonia",
          "Pneumonia",
          "Pneumonia",
          "Pneumonia",
          "Pneumonia",
          "Pneumonia",
          "Pneumonia",
          "Pneumonia",
          "Pneumonia",
          "Pneumonia",
          "Pneumonia",
          "Pneumonia",
          "Pneumonia",
          "Pneumonia",
          "Pneumonia",
          "Pneumonia",
          "Pneumonia",
          "Pneumonia",
          "Pneumonia",
          "Pneumonia",
          "Pneumonia",
          "Pneumonia",
          "Pneumonia",
          "Pneumonia",
          "Pneumonia",
          "Pneumonia",
          "Pneumonia",
          "Pneumonia",
          "Pneumonia",
          "Pneumonia",
          "Pneumonia",
          "Pneumonia",
          "Pneumonia",
          "Pneumonia",
          "Pneumonia",
          "Pneumonia",
          "Pneumonia",
          "Pneumothorax",
          "Pneumothorax",
          "Pneumothorax",
          "Pneumothorax",
          "Pneumothorax",
          "Pneumothorax",
          "Pneumothorax",
          "Pneumothorax",
          "Pneumothorax",
          "Pneumothorax",
          "Pneumothorax",
          "Pneumothorax",
          "Pneumothorax",
          "Pneumothorax",
          "Pneumothorax",
          "Pneumothorax",
          "Pneumothorax",
          "Pneumothorax",
          "Pneumothorax",
          "Pneumothorax",
          "Pneumothorax",
          "Pneumothorax",
          "Pneumothorax",
          "Pneumothorax",
          "Pneumothorax",
          "Pneumothorax",
          "Pneumothorax",
          "Pneumothorax",
          "Pneumothorax",
          "Pneumothorax",
          "Pneumothorax",
          "Pneumothorax",
          "Pneumothorax",
          "Pneumothorax",
          "Pneumothorax",
          "Pneumothorax",
          "Pneumothorax",
          "Pneumothorax",
          "Pneumothorax",
          "Pneumothorax",
          "Pneumothorax",
          "Pneumothorax",
          "Pneumothorax",
          "Pneumothorax",
          "Pneumothorax",
          "Pneumothorax",
          "Pneumothorax",
          "Pneumothorax",
          "Pneumothorax",
          "Pneumothorax",
          "Pneumothorax",
          "Pneumothorax",
          "Pneumothorax",
          "Pneumothorax",
          "Pneumothorax",
          "Pneumothorax",
          "Pneumothorax",
          "Pneumothorax",
          "Pneumothorax",
          "Pneumothorax",
          "Pneumothorax",
          "Pneumothorax",
          "Pneumothorax",
          "Pneumothorax",
          "Pneumothorax",
          "Pneumothorax",
          "Pneumothorax",
          "Pneumothorax",
          "Pneumothorax",
          "Pneumothorax",
          "Pneumothorax",
          "Pneumothorax",
          "Pneumothorax",
          "Pneumothorax",
          "Pneumothorax",
          "Pneumothorax",
          "Pneumothorax",
          "Pneumothorax",
          "Pneumothorax",
          "Pneumothorax",
          "Pneumothorax",
          "Pneumothorax",
          "Pneumothorax",
          "Pneumothorax",
          "Pneumothorax",
          "Pneumothorax",
          "Pneumothorax",
          "Pneumothorax",
          "Pneumothorax",
          "Pneumothorax",
          "Pneumothorax",
          "Pneumothorax",
          "Pneumothorax",
          "Pneumothorax",
          "Pneumothorax",
          "Pneumothorax",
          "Pneumothorax",
          "Pneumothorax"
         ],
         "xaxis": "x",
         "yaxis": "y",
         "type": "histogram"
        }
       ],
       "layout": {
        "template": {
         "data": {
          "histogram2dcontour": [
           {
            "type": "histogram2dcontour",
            "colorbar": {
             "outlinewidth": 0,
             "ticks": ""
            },
            "colorscale": [
             [
              0.0,
              "#0d0887"
             ],
             [
              0.1111111111111111,
              "#46039f"
             ],
             [
              0.2222222222222222,
              "#7201a8"
             ],
             [
              0.3333333333333333,
              "#9c179e"
             ],
             [
              0.4444444444444444,
              "#bd3786"
             ],
             [
              0.5555555555555556,
              "#d8576b"
             ],
             [
              0.6666666666666666,
              "#ed7953"
             ],
             [
              0.7777777777777778,
              "#fb9f3a"
             ],
             [
              0.8888888888888888,
              "#fdca26"
             ],
             [
              1.0,
              "#f0f921"
             ]
            ]
           }
          ],
          "choropleth": [
           {
            "type": "choropleth",
            "colorbar": {
             "outlinewidth": 0,
             "ticks": ""
            }
           }
          ],
          "histogram2d": [
           {
            "type": "histogram2d",
            "colorbar": {
             "outlinewidth": 0,
             "ticks": ""
            },
            "colorscale": [
             [
              0.0,
              "#0d0887"
             ],
             [
              0.1111111111111111,
              "#46039f"
             ],
             [
              0.2222222222222222,
              "#7201a8"
             ],
             [
              0.3333333333333333,
              "#9c179e"
             ],
             [
              0.4444444444444444,
              "#bd3786"
             ],
             [
              0.5555555555555556,
              "#d8576b"
             ],
             [
              0.6666666666666666,
              "#ed7953"
             ],
             [
              0.7777777777777778,
              "#fb9f3a"
             ],
             [
              0.8888888888888888,
              "#fdca26"
             ],
             [
              1.0,
              "#f0f921"
             ]
            ]
           }
          ],
          "heatmap": [
           {
            "type": "heatmap",
            "colorbar": {
             "outlinewidth": 0,
             "ticks": ""
            },
            "colorscale": [
             [
              0.0,
              "#0d0887"
             ],
             [
              0.1111111111111111,
              "#46039f"
             ],
             [
              0.2222222222222222,
              "#7201a8"
             ],
             [
              0.3333333333333333,
              "#9c179e"
             ],
             [
              0.4444444444444444,
              "#bd3786"
             ],
             [
              0.5555555555555556,
              "#d8576b"
             ],
             [
              0.6666666666666666,
              "#ed7953"
             ],
             [
              0.7777777777777778,
              "#fb9f3a"
             ],
             [
              0.8888888888888888,
              "#fdca26"
             ],
             [
              1.0,
              "#f0f921"
             ]
            ]
           }
          ],
          "heatmapgl": [
           {
            "type": "heatmapgl",
            "colorbar": {
             "outlinewidth": 0,
             "ticks": ""
            },
            "colorscale": [
             [
              0.0,
              "#0d0887"
             ],
             [
              0.1111111111111111,
              "#46039f"
             ],
             [
              0.2222222222222222,
              "#7201a8"
             ],
             [
              0.3333333333333333,
              "#9c179e"
             ],
             [
              0.4444444444444444,
              "#bd3786"
             ],
             [
              0.5555555555555556,
              "#d8576b"
             ],
             [
              0.6666666666666666,
              "#ed7953"
             ],
             [
              0.7777777777777778,
              "#fb9f3a"
             ],
             [
              0.8888888888888888,
              "#fdca26"
             ],
             [
              1.0,
              "#f0f921"
             ]
            ]
           }
          ],
          "contourcarpet": [
           {
            "type": "contourcarpet",
            "colorbar": {
             "outlinewidth": 0,
             "ticks": ""
            }
           }
          ],
          "contour": [
           {
            "type": "contour",
            "colorbar": {
             "outlinewidth": 0,
             "ticks": ""
            },
            "colorscale": [
             [
              0.0,
              "#0d0887"
             ],
             [
              0.1111111111111111,
              "#46039f"
             ],
             [
              0.2222222222222222,
              "#7201a8"
             ],
             [
              0.3333333333333333,
              "#9c179e"
             ],
             [
              0.4444444444444444,
              "#bd3786"
             ],
             [
              0.5555555555555556,
              "#d8576b"
             ],
             [
              0.6666666666666666,
              "#ed7953"
             ],
             [
              0.7777777777777778,
              "#fb9f3a"
             ],
             [
              0.8888888888888888,
              "#fdca26"
             ],
             [
              1.0,
              "#f0f921"
             ]
            ]
           }
          ],
          "surface": [
           {
            "type": "surface",
            "colorbar": {
             "outlinewidth": 0,
             "ticks": ""
            },
            "colorscale": [
             [
              0.0,
              "#0d0887"
             ],
             [
              0.1111111111111111,
              "#46039f"
             ],
             [
              0.2222222222222222,
              "#7201a8"
             ],
             [
              0.3333333333333333,
              "#9c179e"
             ],
             [
              0.4444444444444444,
              "#bd3786"
             ],
             [
              0.5555555555555556,
              "#d8576b"
             ],
             [
              0.6666666666666666,
              "#ed7953"
             ],
             [
              0.7777777777777778,
              "#fb9f3a"
             ],
             [
              0.8888888888888888,
              "#fdca26"
             ],
             [
              1.0,
              "#f0f921"
             ]
            ]
           }
          ],
          "mesh3d": [
           {
            "type": "mesh3d",
            "colorbar": {
             "outlinewidth": 0,
             "ticks": ""
            }
           }
          ],
          "scatter": [
           {
            "fillpattern": {
             "fillmode": "overlay",
             "size": 10,
             "solidity": 0.2
            },
            "type": "scatter"
           }
          ],
          "parcoords": [
           {
            "type": "parcoords",
            "line": {
             "colorbar": {
              "outlinewidth": 0,
              "ticks": ""
             }
            }
           }
          ],
          "scatterpolargl": [
           {
            "type": "scatterpolargl",
            "marker": {
             "colorbar": {
              "outlinewidth": 0,
              "ticks": ""
             }
            }
           }
          ],
          "bar": [
           {
            "error_x": {
             "color": "#2a3f5f"
            },
            "error_y": {
             "color": "#2a3f5f"
            },
            "marker": {
             "line": {
              "color": "#E5ECF6",
              "width": 0.5
             },
             "pattern": {
              "fillmode": "overlay",
              "size": 10,
              "solidity": 0.2
             }
            },
            "type": "bar"
           }
          ],
          "scattergeo": [
           {
            "type": "scattergeo",
            "marker": {
             "colorbar": {
              "outlinewidth": 0,
              "ticks": ""
             }
            }
           }
          ],
          "scatterpolar": [
           {
            "type": "scatterpolar",
            "marker": {
             "colorbar": {
              "outlinewidth": 0,
              "ticks": ""
             }
            }
           }
          ],
          "histogram": [
           {
            "marker": {
             "pattern": {
              "fillmode": "overlay",
              "size": 10,
              "solidity": 0.2
             }
            },
            "type": "histogram"
           }
          ],
          "scattergl": [
           {
            "type": "scattergl",
            "marker": {
             "colorbar": {
              "outlinewidth": 0,
              "ticks": ""
             }
            }
           }
          ],
          "scatter3d": [
           {
            "type": "scatter3d",
            "line": {
             "colorbar": {
              "outlinewidth": 0,
              "ticks": ""
             }
            },
            "marker": {
             "colorbar": {
              "outlinewidth": 0,
              "ticks": ""
             }
            }
           }
          ],
          "scattermapbox": [
           {
            "type": "scattermapbox",
            "marker": {
             "colorbar": {
              "outlinewidth": 0,
              "ticks": ""
             }
            }
           }
          ],
          "scatterternary": [
           {
            "type": "scatterternary",
            "marker": {
             "colorbar": {
              "outlinewidth": 0,
              "ticks": ""
             }
            }
           }
          ],
          "scattercarpet": [
           {
            "type": "scattercarpet",
            "marker": {
             "colorbar": {
              "outlinewidth": 0,
              "ticks": ""
             }
            }
           }
          ],
          "carpet": [
           {
            "aaxis": {
             "endlinecolor": "#2a3f5f",
             "gridcolor": "white",
             "linecolor": "white",
             "minorgridcolor": "white",
             "startlinecolor": "#2a3f5f"
            },
            "baxis": {
             "endlinecolor": "#2a3f5f",
             "gridcolor": "white",
             "linecolor": "white",
             "minorgridcolor": "white",
             "startlinecolor": "#2a3f5f"
            },
            "type": "carpet"
           }
          ],
          "table": [
           {
            "cells": {
             "fill": {
              "color": "#EBF0F8"
             },
             "line": {
              "color": "white"
             }
            },
            "header": {
             "fill": {
              "color": "#C8D4E3"
             },
             "line": {
              "color": "white"
             }
            },
            "type": "table"
           }
          ],
          "barpolar": [
           {
            "marker": {
             "line": {
              "color": "#E5ECF6",
              "width": 0.5
             },
             "pattern": {
              "fillmode": "overlay",
              "size": 10,
              "solidity": 0.2
             }
            },
            "type": "barpolar"
           }
          ],
          "pie": [
           {
            "automargin": true,
            "type": "pie"
           }
          ]
         },
         "layout": {
          "autotypenumbers": "strict",
          "colorway": [
           "#636efa",
           "#EF553B",
           "#00cc96",
           "#ab63fa",
           "#FFA15A",
           "#19d3f3",
           "#FF6692",
           "#B6E880",
           "#FF97FF",
           "#FECB52"
          ],
          "font": {
           "color": "#2a3f5f"
          },
          "hovermode": "closest",
          "hoverlabel": {
           "align": "left"
          },
          "paper_bgcolor": "white",
          "plot_bgcolor": "#E5ECF6",
          "polar": {
           "bgcolor": "#E5ECF6",
           "angularaxis": {
            "gridcolor": "white",
            "linecolor": "white",
            "ticks": ""
           },
           "radialaxis": {
            "gridcolor": "white",
            "linecolor": "white",
            "ticks": ""
           }
          },
          "ternary": {
           "bgcolor": "#E5ECF6",
           "aaxis": {
            "gridcolor": "white",
            "linecolor": "white",
            "ticks": ""
           },
           "baxis": {
            "gridcolor": "white",
            "linecolor": "white",
            "ticks": ""
           },
           "caxis": {
            "gridcolor": "white",
            "linecolor": "white",
            "ticks": ""
           }
          },
          "coloraxis": {
           "colorbar": {
            "outlinewidth": 0,
            "ticks": ""
           }
          },
          "colorscale": {
           "sequential": [
            [
             0.0,
             "#0d0887"
            ],
            [
             0.1111111111111111,
             "#46039f"
            ],
            [
             0.2222222222222222,
             "#7201a8"
            ],
            [
             0.3333333333333333,
             "#9c179e"
            ],
            [
             0.4444444444444444,
             "#bd3786"
            ],
            [
             0.5555555555555556,
             "#d8576b"
            ],
            [
             0.6666666666666666,
             "#ed7953"
            ],
            [
             0.7777777777777778,
             "#fb9f3a"
            ],
            [
             0.8888888888888888,
             "#fdca26"
            ],
            [
             1.0,
             "#f0f921"
            ]
           ],
           "sequentialminus": [
            [
             0.0,
             "#0d0887"
            ],
            [
             0.1111111111111111,
             "#46039f"
            ],
            [
             0.2222222222222222,
             "#7201a8"
            ],
            [
             0.3333333333333333,
             "#9c179e"
            ],
            [
             0.4444444444444444,
             "#bd3786"
            ],
            [
             0.5555555555555556,
             "#d8576b"
            ],
            [
             0.6666666666666666,
             "#ed7953"
            ],
            [
             0.7777777777777778,
             "#fb9f3a"
            ],
            [
             0.8888888888888888,
             "#fdca26"
            ],
            [
             1.0,
             "#f0f921"
            ]
           ],
           "diverging": [
            [
             0,
             "#8e0152"
            ],
            [
             0.1,
             "#c51b7d"
            ],
            [
             0.2,
             "#de77ae"
            ],
            [
             0.3,
             "#f1b6da"
            ],
            [
             0.4,
             "#fde0ef"
            ],
            [
             0.5,
             "#f7f7f7"
            ],
            [
             0.6,
             "#e6f5d0"
            ],
            [
             0.7,
             "#b8e186"
            ],
            [
             0.8,
             "#7fbc41"
            ],
            [
             0.9,
             "#4d9221"
            ],
            [
             1,
             "#276419"
            ]
           ]
          },
          "xaxis": {
           "gridcolor": "white",
           "linecolor": "white",
           "ticks": "",
           "title": {
            "standoff": 15
           },
           "zerolinecolor": "white",
           "automargin": true,
           "zerolinewidth": 2
          },
          "yaxis": {
           "gridcolor": "white",
           "linecolor": "white",
           "ticks": "",
           "title": {
            "standoff": 15
           },
           "zerolinecolor": "white",
           "automargin": true,
           "zerolinewidth": 2
          },
          "scene": {
           "xaxis": {
            "backgroundcolor": "#E5ECF6",
            "gridcolor": "white",
            "linecolor": "white",
            "showbackground": true,
            "ticks": "",
            "zerolinecolor": "white",
            "gridwidth": 2
           },
           "yaxis": {
            "backgroundcolor": "#E5ECF6",
            "gridcolor": "white",
            "linecolor": "white",
            "showbackground": true,
            "ticks": "",
            "zerolinecolor": "white",
            "gridwidth": 2
           },
           "zaxis": {
            "backgroundcolor": "#E5ECF6",
            "gridcolor": "white",
            "linecolor": "white",
            "showbackground": true,
            "ticks": "",
            "zerolinecolor": "white",
            "gridwidth": 2
           }
          },
          "shapedefaults": {
           "line": {
            "color": "#2a3f5f"
           }
          },
          "annotationdefaults": {
           "arrowcolor": "#2a3f5f",
           "arrowhead": 0,
           "arrowwidth": 1
          },
          "geo": {
           "bgcolor": "white",
           "landcolor": "#E5ECF6",
           "subunitcolor": "white",
           "showland": true,
           "showlakes": true,
           "lakecolor": "white"
          },
          "title": {
           "x": 0.05
          },
          "mapbox": {
           "style": "light"
          }
         }
        },
        "xaxis": {
         "anchor": "y",
         "domain": [
          0.0,
          1.0
         ],
         "title": {
          "text": "label"
         }
        },
        "yaxis": {
         "anchor": "x",
         "domain": [
          0.0,
          1.0
         ],
         "title": {
          "text": "count"
         }
        },
        "legend": {
         "tracegroupgap": 0
        },
        "title": {
         "text": "label distribution"
        },
        "barmode": "relative"
       },
       "config": {
        "plotlyServerURL": "https://plot.ly"
       }
      },
      "text/html": "<div>                            <div id=\"b43ba1f5-d591-4c19-bf56-a8434f3389b0\" class=\"plotly-graph-div\" style=\"height:525px; width:100%;\"></div>            <script type=\"text/javascript\">                require([\"plotly\"], function(Plotly) {                    window.PLOTLYENV=window.PLOTLYENV || {};                                    if (document.getElementById(\"b43ba1f5-d591-4c19-bf56-a8434f3389b0\")) {                    Plotly.newPlot(                        \"b43ba1f5-d591-4c19-bf56-a8434f3389b0\",                        [{\"alignmentgroup\":\"True\",\"bingroup\":\"x\",\"hovertemplate\":\"label=%{x}\\u003cbr\\u003ecount=%{y}\\u003cextra\\u003e\\u003c\\u002fextra\\u003e\",\"legendgroup\":\"\",\"marker\":{\"color\":\"#636efa\",\"pattern\":{\"shape\":\"\"}},\"name\":\"\",\"offsetgroup\":\"\",\"orientation\":\"v\",\"showlegend\":false,\"x\":[\"Atelectasis\",\"Atelectasis\",\"Atelectasis\",\"Atelectasis\",\"Atelectasis\",\"Atelectasis\",\"Atelectasis\",\"Atelectasis\",\"Atelectasis\",\"Atelectasis\",\"Atelectasis\",\"Atelectasis\",\"Atelectasis\",\"Atelectasis\",\"Atelectasis\",\"Atelectasis\",\"Atelectasis\",\"Atelectasis\",\"Atelectasis\",\"Atelectasis\",\"Atelectasis\",\"Atelectasis\",\"Atelectasis\",\"Atelectasis\",\"Atelectasis\",\"Atelectasis\",\"Atelectasis\",\"Atelectasis\",\"Atelectasis\",\"Atelectasis\",\"Atelectasis\",\"Atelectasis\",\"Atelectasis\",\"Atelectasis\",\"Atelectasis\",\"Atelectasis\",\"Atelectasis\",\"Atelectasis\",\"Atelectasis\",\"Atelectasis\",\"Atelectasis\",\"Atelectasis\",\"Atelectasis\",\"Atelectasis\",\"Atelectasis\",\"Atelectasis\",\"Atelectasis\",\"Atelectasis\",\"Atelectasis\",\"Atelectasis\",\"Atelectasis\",\"Atelectasis\",\"Atelectasis\",\"Atelectasis\",\"Atelectasis\",\"Atelectasis\",\"Atelectasis\",\"Atelectasis\",\"Atelectasis\",\"Atelectasis\",\"Atelectasis\",\"Atelectasis\",\"Atelectasis\",\"Atelectasis\",\"Atelectasis\",\"Atelectasis\",\"Atelectasis\",\"Atelectasis\",\"Atelectasis\",\"Atelectasis\",\"Atelectasis\",\"Atelectasis\",\"Atelectasis\",\"Atelectasis\",\"Atelectasis\",\"Atelectasis\",\"Atelectasis\",\"Atelectasis\",\"Atelectasis\",\"Atelectasis\",\"Atelectasis\",\"Atelectasis\",\"Atelectasis\",\"Atelectasis\",\"Atelectasis\",\"Atelectasis\",\"Atelectasis\",\"Atelectasis\",\"Atelectasis\",\"Atelectasis\",\"Atelectasis\",\"Atelectasis\",\"Atelectasis\",\"Atelectasis\",\"Atelectasis\",\"Atelectasis\",\"Atelectasis\",\"Atelectasis\",\"Atelectasis\",\"Atelectasis\",\"Atelectasis\",\"Atelectasis\",\"Atelectasis\",\"Atelectasis\",\"Atelectasis\",\"Atelectasis\",\"Atelectasis\",\"Atelectasis\",\"Atelectasis\",\"Atelectasis\",\"Atelectasis\",\"Atelectasis\",\"Atelectasis\",\"Atelectasis\",\"Atelectasis\",\"Atelectasis\",\"Atelectasis\",\"Atelectasis\",\"Atelectasis\",\"Atelectasis\",\"Atelectasis\",\"Atelectasis\",\"Atelectasis\",\"Atelectasis\",\"Atelectasis\",\"Atelectasis\",\"Atelectasis\",\"Atelectasis\",\"Atelectasis\",\"Atelectasis\",\"Atelectasis\",\"Atelectasis\",\"Atelectasis\",\"Atelectasis\",\"Atelectasis\",\"Atelectasis\",\"Atelectasis\",\"Atelectasis\",\"Atelectasis\",\"Atelectasis\",\"Atelectasis\",\"Atelectasis\",\"Atelectasis\",\"Atelectasis\",\"Atelectasis\",\"Atelectasis\",\"Atelectasis\",\"Atelectasis\",\"Atelectasis\",\"Atelectasis\",\"Atelectasis\",\"Atelectasis\",\"Atelectasis\",\"Atelectasis\",\"Atelectasis\",\"Atelectasis\",\"Atelectasis\",\"Atelectasis\",\"Atelectasis\",\"Atelectasis\",\"Atelectasis\",\"Atelectasis\",\"Atelectasis\",\"Atelectasis\",\"Atelectasis\",\"Atelectasis\",\"Atelectasis\",\"Atelectasis\",\"Atelectasis\",\"Atelectasis\",\"Atelectasis\",\"Atelectasis\",\"Atelectasis\",\"Atelectasis\",\"Atelectasis\",\"Atelectasis\",\"Atelectasis\",\"Atelectasis\",\"Atelectasis\",\"Atelectasis\",\"Cardiomegaly\",\"Cardiomegaly\",\"Cardiomegaly\",\"Cardiomegaly\",\"Cardiomegaly\",\"Cardiomegaly\",\"Cardiomegaly\",\"Cardiomegaly\",\"Cardiomegaly\",\"Cardiomegaly\",\"Cardiomegaly\",\"Cardiomegaly\",\"Cardiomegaly\",\"Cardiomegaly\",\"Cardiomegaly\",\"Cardiomegaly\",\"Cardiomegaly\",\"Cardiomegaly\",\"Cardiomegaly\",\"Cardiomegaly\",\"Cardiomegaly\",\"Cardiomegaly\",\"Cardiomegaly\",\"Cardiomegaly\",\"Cardiomegaly\",\"Cardiomegaly\",\"Cardiomegaly\",\"Cardiomegaly\",\"Cardiomegaly\",\"Cardiomegaly\",\"Cardiomegaly\",\"Cardiomegaly\",\"Cardiomegaly\",\"Cardiomegaly\",\"Cardiomegaly\",\"Cardiomegaly\",\"Cardiomegaly\",\"Cardiomegaly\",\"Cardiomegaly\",\"Cardiomegaly\",\"Cardiomegaly\",\"Cardiomegaly\",\"Cardiomegaly\",\"Cardiomegaly\",\"Cardiomegaly\",\"Cardiomegaly\",\"Cardiomegaly\",\"Cardiomegaly\",\"Cardiomegaly\",\"Cardiomegaly\",\"Cardiomegaly\",\"Cardiomegaly\",\"Cardiomegaly\",\"Cardiomegaly\",\"Cardiomegaly\",\"Cardiomegaly\",\"Cardiomegaly\",\"Cardiomegaly\",\"Cardiomegaly\",\"Cardiomegaly\",\"Cardiomegaly\",\"Cardiomegaly\",\"Cardiomegaly\",\"Cardiomegaly\",\"Cardiomegaly\",\"Cardiomegaly\",\"Cardiomegaly\",\"Cardiomegaly\",\"Cardiomegaly\",\"Cardiomegaly\",\"Cardiomegaly\",\"Cardiomegaly\",\"Cardiomegaly\",\"Cardiomegaly\",\"Cardiomegaly\",\"Cardiomegaly\",\"Cardiomegaly\",\"Cardiomegaly\",\"Cardiomegaly\",\"Cardiomegaly\",\"Cardiomegaly\",\"Cardiomegaly\",\"Cardiomegaly\",\"Cardiomegaly\",\"Cardiomegaly\",\"Cardiomegaly\",\"Cardiomegaly\",\"Cardiomegaly\",\"Cardiomegaly\",\"Cardiomegaly\",\"Cardiomegaly\",\"Cardiomegaly\",\"Cardiomegaly\",\"Cardiomegaly\",\"Cardiomegaly\",\"Cardiomegaly\",\"Cardiomegaly\",\"Cardiomegaly\",\"Cardiomegaly\",\"Cardiomegaly\",\"Cardiomegaly\",\"Cardiomegaly\",\"Cardiomegaly\",\"Cardiomegaly\",\"Cardiomegaly\",\"Cardiomegaly\",\"Cardiomegaly\",\"Cardiomegaly\",\"Cardiomegaly\",\"Cardiomegaly\",\"Cardiomegaly\",\"Cardiomegaly\",\"Cardiomegaly\",\"Cardiomegaly\",\"Cardiomegaly\",\"Cardiomegaly\",\"Cardiomegaly\",\"Cardiomegaly\",\"Cardiomegaly\",\"Cardiomegaly\",\"Cardiomegaly\",\"Cardiomegaly\",\"Cardiomegaly\",\"Cardiomegaly\",\"Cardiomegaly\",\"Cardiomegaly\",\"Cardiomegaly\",\"Cardiomegaly\",\"Cardiomegaly\",\"Cardiomegaly\",\"Cardiomegaly\",\"Cardiomegaly\",\"Cardiomegaly\",\"Cardiomegaly\",\"Cardiomegaly\",\"Cardiomegaly\",\"Cardiomegaly\",\"Cardiomegaly\",\"Cardiomegaly\",\"Cardiomegaly\",\"Cardiomegaly\",\"Cardiomegaly\",\"Cardiomegaly\",\"Cardiomegaly\",\"Cardiomegaly\",\"Cardiomegaly\",\"Effusion\",\"Effusion\",\"Effusion\",\"Effusion\",\"Effusion\",\"Effusion\",\"Effusion\",\"Effusion\",\"Effusion\",\"Effusion\",\"Effusion\",\"Effusion\",\"Effusion\",\"Effusion\",\"Effusion\",\"Effusion\",\"Effusion\",\"Effusion\",\"Effusion\",\"Effusion\",\"Effusion\",\"Effusion\",\"Effusion\",\"Effusion\",\"Effusion\",\"Effusion\",\"Effusion\",\"Effusion\",\"Effusion\",\"Effusion\",\"Effusion\",\"Effusion\",\"Effusion\",\"Effusion\",\"Effusion\",\"Effusion\",\"Effusion\",\"Effusion\",\"Effusion\",\"Effusion\",\"Effusion\",\"Effusion\",\"Effusion\",\"Effusion\",\"Effusion\",\"Effusion\",\"Effusion\",\"Effusion\",\"Effusion\",\"Effusion\",\"Effusion\",\"Effusion\",\"Effusion\",\"Effusion\",\"Effusion\",\"Effusion\",\"Effusion\",\"Effusion\",\"Effusion\",\"Effusion\",\"Effusion\",\"Effusion\",\"Effusion\",\"Effusion\",\"Effusion\",\"Effusion\",\"Effusion\",\"Effusion\",\"Effusion\",\"Effusion\",\"Effusion\",\"Effusion\",\"Effusion\",\"Effusion\",\"Effusion\",\"Effusion\",\"Effusion\",\"Effusion\",\"Effusion\",\"Effusion\",\"Effusion\",\"Effusion\",\"Effusion\",\"Effusion\",\"Effusion\",\"Effusion\",\"Effusion\",\"Effusion\",\"Effusion\",\"Effusion\",\"Effusion\",\"Effusion\",\"Effusion\",\"Effusion\",\"Effusion\",\"Effusion\",\"Effusion\",\"Effusion\",\"Effusion\",\"Effusion\",\"Effusion\",\"Effusion\",\"Effusion\",\"Effusion\",\"Effusion\",\"Effusion\",\"Effusion\",\"Effusion\",\"Effusion\",\"Effusion\",\"Effusion\",\"Effusion\",\"Effusion\",\"Effusion\",\"Effusion\",\"Effusion\",\"Effusion\",\"Effusion\",\"Effusion\",\"Effusion\",\"Effusion\",\"Effusion\",\"Effusion\",\"Effusion\",\"Effusion\",\"Effusion\",\"Effusion\",\"Effusion\",\"Effusion\",\"Effusion\",\"Effusion\",\"Effusion\",\"Effusion\",\"Effusion\",\"Effusion\",\"Effusion\",\"Effusion\",\"Effusion\",\"Effusion\",\"Effusion\",\"Effusion\",\"Effusion\",\"Effusion\",\"Effusion\",\"Effusion\",\"Effusion\",\"Effusion\",\"Effusion\",\"Effusion\",\"Effusion\",\"Effusion\",\"Effusion\",\"Effusion\",\"Infiltrate\",\"Infiltrate\",\"Infiltrate\",\"Infiltrate\",\"Infiltrate\",\"Infiltrate\",\"Infiltrate\",\"Infiltrate\",\"Infiltrate\",\"Infiltrate\",\"Infiltrate\",\"Infiltrate\",\"Infiltrate\",\"Infiltrate\",\"Infiltrate\",\"Infiltrate\",\"Infiltrate\",\"Infiltrate\",\"Infiltrate\",\"Infiltrate\",\"Infiltrate\",\"Infiltrate\",\"Infiltrate\",\"Infiltrate\",\"Infiltrate\",\"Infiltrate\",\"Infiltrate\",\"Infiltrate\",\"Infiltrate\",\"Infiltrate\",\"Infiltrate\",\"Infiltrate\",\"Infiltrate\",\"Infiltrate\",\"Infiltrate\",\"Infiltrate\",\"Infiltrate\",\"Infiltrate\",\"Infiltrate\",\"Infiltrate\",\"Infiltrate\",\"Infiltrate\",\"Infiltrate\",\"Infiltrate\",\"Infiltrate\",\"Infiltrate\",\"Infiltrate\",\"Infiltrate\",\"Infiltrate\",\"Infiltrate\",\"Infiltrate\",\"Infiltrate\",\"Infiltrate\",\"Infiltrate\",\"Infiltrate\",\"Infiltrate\",\"Infiltrate\",\"Infiltrate\",\"Infiltrate\",\"Infiltrate\",\"Infiltrate\",\"Infiltrate\",\"Infiltrate\",\"Infiltrate\",\"Infiltrate\",\"Infiltrate\",\"Infiltrate\",\"Infiltrate\",\"Infiltrate\",\"Infiltrate\",\"Infiltrate\",\"Infiltrate\",\"Infiltrate\",\"Infiltrate\",\"Infiltrate\",\"Infiltrate\",\"Infiltrate\",\"Infiltrate\",\"Infiltrate\",\"Infiltrate\",\"Infiltrate\",\"Infiltrate\",\"Infiltrate\",\"Infiltrate\",\"Infiltrate\",\"Infiltrate\",\"Infiltrate\",\"Infiltrate\",\"Infiltrate\",\"Infiltrate\",\"Infiltrate\",\"Infiltrate\",\"Infiltrate\",\"Infiltrate\",\"Infiltrate\",\"Infiltrate\",\"Infiltrate\",\"Infiltrate\",\"Infiltrate\",\"Infiltrate\",\"Infiltrate\",\"Infiltrate\",\"Infiltrate\",\"Infiltrate\",\"Infiltrate\",\"Infiltrate\",\"Infiltrate\",\"Infiltrate\",\"Infiltrate\",\"Infiltrate\",\"Infiltrate\",\"Infiltrate\",\"Infiltrate\",\"Infiltrate\",\"Infiltrate\",\"Infiltrate\",\"Infiltrate\",\"Infiltrate\",\"Infiltrate\",\"Infiltrate\",\"Infiltrate\",\"Infiltrate\",\"Infiltrate\",\"Mass\",\"Mass\",\"Mass\",\"Mass\",\"Mass\",\"Mass\",\"Mass\",\"Mass\",\"Mass\",\"Mass\",\"Mass\",\"Mass\",\"Mass\",\"Mass\",\"Mass\",\"Mass\",\"Mass\",\"Mass\",\"Mass\",\"Mass\",\"Mass\",\"Mass\",\"Mass\",\"Mass\",\"Mass\",\"Mass\",\"Mass\",\"Mass\",\"Mass\",\"Mass\",\"Mass\",\"Mass\",\"Mass\",\"Mass\",\"Mass\",\"Mass\",\"Mass\",\"Mass\",\"Mass\",\"Mass\",\"Mass\",\"Mass\",\"Mass\",\"Mass\",\"Mass\",\"Mass\",\"Mass\",\"Mass\",\"Mass\",\"Mass\",\"Mass\",\"Mass\",\"Mass\",\"Mass\",\"Mass\",\"Mass\",\"Mass\",\"Mass\",\"Mass\",\"Mass\",\"Mass\",\"Mass\",\"Mass\",\"Mass\",\"Mass\",\"Mass\",\"Mass\",\"Mass\",\"Mass\",\"Mass\",\"Mass\",\"Mass\",\"Mass\",\"Mass\",\"Mass\",\"Mass\",\"Mass\",\"Mass\",\"Mass\",\"Mass\",\"Mass\",\"Mass\",\"Mass\",\"Mass\",\"Mass\",\"Nodule\",\"Nodule\",\"Nodule\",\"Nodule\",\"Nodule\",\"Nodule\",\"Nodule\",\"Nodule\",\"Nodule\",\"Nodule\",\"Nodule\",\"Nodule\",\"Nodule\",\"Nodule\",\"Nodule\",\"Nodule\",\"Nodule\",\"Nodule\",\"Nodule\",\"Nodule\",\"Nodule\",\"Nodule\",\"Nodule\",\"Nodule\",\"Nodule\",\"Nodule\",\"Nodule\",\"Nodule\",\"Nodule\",\"Nodule\",\"Nodule\",\"Nodule\",\"Nodule\",\"Nodule\",\"Nodule\",\"Nodule\",\"Nodule\",\"Nodule\",\"Nodule\",\"Nodule\",\"Nodule\",\"Nodule\",\"Nodule\",\"Nodule\",\"Nodule\",\"Nodule\",\"Nodule\",\"Nodule\",\"Nodule\",\"Nodule\",\"Nodule\",\"Nodule\",\"Nodule\",\"Nodule\",\"Nodule\",\"Nodule\",\"Nodule\",\"Nodule\",\"Nodule\",\"Nodule\",\"Nodule\",\"Nodule\",\"Nodule\",\"Nodule\",\"Nodule\",\"Nodule\",\"Nodule\",\"Nodule\",\"Nodule\",\"Nodule\",\"Nodule\",\"Nodule\",\"Nodule\",\"Nodule\",\"Nodule\",\"Nodule\",\"Nodule\",\"Nodule\",\"Nodule\",\"Pneumonia\",\"Pneumonia\",\"Pneumonia\",\"Pneumonia\",\"Pneumonia\",\"Pneumonia\",\"Pneumonia\",\"Pneumonia\",\"Pneumonia\",\"Pneumonia\",\"Pneumonia\",\"Pneumonia\",\"Pneumonia\",\"Pneumonia\",\"Pneumonia\",\"Pneumonia\",\"Pneumonia\",\"Pneumonia\",\"Pneumonia\",\"Pneumonia\",\"Pneumonia\",\"Pneumonia\",\"Pneumonia\",\"Pneumonia\",\"Pneumonia\",\"Pneumonia\",\"Pneumonia\",\"Pneumonia\",\"Pneumonia\",\"Pneumonia\",\"Pneumonia\",\"Pneumonia\",\"Pneumonia\",\"Pneumonia\",\"Pneumonia\",\"Pneumonia\",\"Pneumonia\",\"Pneumonia\",\"Pneumonia\",\"Pneumonia\",\"Pneumonia\",\"Pneumonia\",\"Pneumonia\",\"Pneumonia\",\"Pneumonia\",\"Pneumonia\",\"Pneumonia\",\"Pneumonia\",\"Pneumonia\",\"Pneumonia\",\"Pneumonia\",\"Pneumonia\",\"Pneumonia\",\"Pneumonia\",\"Pneumonia\",\"Pneumonia\",\"Pneumonia\",\"Pneumonia\",\"Pneumonia\",\"Pneumonia\",\"Pneumonia\",\"Pneumonia\",\"Pneumonia\",\"Pneumonia\",\"Pneumonia\",\"Pneumonia\",\"Pneumonia\",\"Pneumonia\",\"Pneumonia\",\"Pneumonia\",\"Pneumonia\",\"Pneumonia\",\"Pneumonia\",\"Pneumonia\",\"Pneumonia\",\"Pneumonia\",\"Pneumonia\",\"Pneumonia\",\"Pneumonia\",\"Pneumonia\",\"Pneumonia\",\"Pneumonia\",\"Pneumonia\",\"Pneumonia\",\"Pneumonia\",\"Pneumonia\",\"Pneumonia\",\"Pneumonia\",\"Pneumonia\",\"Pneumonia\",\"Pneumonia\",\"Pneumonia\",\"Pneumonia\",\"Pneumonia\",\"Pneumonia\",\"Pneumonia\",\"Pneumonia\",\"Pneumonia\",\"Pneumonia\",\"Pneumonia\",\"Pneumonia\",\"Pneumonia\",\"Pneumonia\",\"Pneumonia\",\"Pneumonia\",\"Pneumonia\",\"Pneumonia\",\"Pneumonia\",\"Pneumonia\",\"Pneumonia\",\"Pneumonia\",\"Pneumonia\",\"Pneumonia\",\"Pneumonia\",\"Pneumonia\",\"Pneumonia\",\"Pneumonia\",\"Pneumonia\",\"Pneumonia\",\"Pneumonia\",\"Pneumothorax\",\"Pneumothorax\",\"Pneumothorax\",\"Pneumothorax\",\"Pneumothorax\",\"Pneumothorax\",\"Pneumothorax\",\"Pneumothorax\",\"Pneumothorax\",\"Pneumothorax\",\"Pneumothorax\",\"Pneumothorax\",\"Pneumothorax\",\"Pneumothorax\",\"Pneumothorax\",\"Pneumothorax\",\"Pneumothorax\",\"Pneumothorax\",\"Pneumothorax\",\"Pneumothorax\",\"Pneumothorax\",\"Pneumothorax\",\"Pneumothorax\",\"Pneumothorax\",\"Pneumothorax\",\"Pneumothorax\",\"Pneumothorax\",\"Pneumothorax\",\"Pneumothorax\",\"Pneumothorax\",\"Pneumothorax\",\"Pneumothorax\",\"Pneumothorax\",\"Pneumothorax\",\"Pneumothorax\",\"Pneumothorax\",\"Pneumothorax\",\"Pneumothorax\",\"Pneumothorax\",\"Pneumothorax\",\"Pneumothorax\",\"Pneumothorax\",\"Pneumothorax\",\"Pneumothorax\",\"Pneumothorax\",\"Pneumothorax\",\"Pneumothorax\",\"Pneumothorax\",\"Pneumothorax\",\"Pneumothorax\",\"Pneumothorax\",\"Pneumothorax\",\"Pneumothorax\",\"Pneumothorax\",\"Pneumothorax\",\"Pneumothorax\",\"Pneumothorax\",\"Pneumothorax\",\"Pneumothorax\",\"Pneumothorax\",\"Pneumothorax\",\"Pneumothorax\",\"Pneumothorax\",\"Pneumothorax\",\"Pneumothorax\",\"Pneumothorax\",\"Pneumothorax\",\"Pneumothorax\",\"Pneumothorax\",\"Pneumothorax\",\"Pneumothorax\",\"Pneumothorax\",\"Pneumothorax\",\"Pneumothorax\",\"Pneumothorax\",\"Pneumothorax\",\"Pneumothorax\",\"Pneumothorax\",\"Pneumothorax\",\"Pneumothorax\",\"Pneumothorax\",\"Pneumothorax\",\"Pneumothorax\",\"Pneumothorax\",\"Pneumothorax\",\"Pneumothorax\",\"Pneumothorax\",\"Pneumothorax\",\"Pneumothorax\",\"Pneumothorax\",\"Pneumothorax\",\"Pneumothorax\",\"Pneumothorax\",\"Pneumothorax\",\"Pneumothorax\",\"Pneumothorax\",\"Pneumothorax\",\"Pneumothorax\"],\"xaxis\":\"x\",\"yaxis\":\"y\",\"type\":\"histogram\"}],                        {\"template\":{\"data\":{\"histogram2dcontour\":[{\"type\":\"histogram2dcontour\",\"colorbar\":{\"outlinewidth\":0,\"ticks\":\"\"},\"colorscale\":[[0.0,\"#0d0887\"],[0.1111111111111111,\"#46039f\"],[0.2222222222222222,\"#7201a8\"],[0.3333333333333333,\"#9c179e\"],[0.4444444444444444,\"#bd3786\"],[0.5555555555555556,\"#d8576b\"],[0.6666666666666666,\"#ed7953\"],[0.7777777777777778,\"#fb9f3a\"],[0.8888888888888888,\"#fdca26\"],[1.0,\"#f0f921\"]]}],\"choropleth\":[{\"type\":\"choropleth\",\"colorbar\":{\"outlinewidth\":0,\"ticks\":\"\"}}],\"histogram2d\":[{\"type\":\"histogram2d\",\"colorbar\":{\"outlinewidth\":0,\"ticks\":\"\"},\"colorscale\":[[0.0,\"#0d0887\"],[0.1111111111111111,\"#46039f\"],[0.2222222222222222,\"#7201a8\"],[0.3333333333333333,\"#9c179e\"],[0.4444444444444444,\"#bd3786\"],[0.5555555555555556,\"#d8576b\"],[0.6666666666666666,\"#ed7953\"],[0.7777777777777778,\"#fb9f3a\"],[0.8888888888888888,\"#fdca26\"],[1.0,\"#f0f921\"]]}],\"heatmap\":[{\"type\":\"heatmap\",\"colorbar\":{\"outlinewidth\":0,\"ticks\":\"\"},\"colorscale\":[[0.0,\"#0d0887\"],[0.1111111111111111,\"#46039f\"],[0.2222222222222222,\"#7201a8\"],[0.3333333333333333,\"#9c179e\"],[0.4444444444444444,\"#bd3786\"],[0.5555555555555556,\"#d8576b\"],[0.6666666666666666,\"#ed7953\"],[0.7777777777777778,\"#fb9f3a\"],[0.8888888888888888,\"#fdca26\"],[1.0,\"#f0f921\"]]}],\"heatmapgl\":[{\"type\":\"heatmapgl\",\"colorbar\":{\"outlinewidth\":0,\"ticks\":\"\"},\"colorscale\":[[0.0,\"#0d0887\"],[0.1111111111111111,\"#46039f\"],[0.2222222222222222,\"#7201a8\"],[0.3333333333333333,\"#9c179e\"],[0.4444444444444444,\"#bd3786\"],[0.5555555555555556,\"#d8576b\"],[0.6666666666666666,\"#ed7953\"],[0.7777777777777778,\"#fb9f3a\"],[0.8888888888888888,\"#fdca26\"],[1.0,\"#f0f921\"]]}],\"contourcarpet\":[{\"type\":\"contourcarpet\",\"colorbar\":{\"outlinewidth\":0,\"ticks\":\"\"}}],\"contour\":[{\"type\":\"contour\",\"colorbar\":{\"outlinewidth\":0,\"ticks\":\"\"},\"colorscale\":[[0.0,\"#0d0887\"],[0.1111111111111111,\"#46039f\"],[0.2222222222222222,\"#7201a8\"],[0.3333333333333333,\"#9c179e\"],[0.4444444444444444,\"#bd3786\"],[0.5555555555555556,\"#d8576b\"],[0.6666666666666666,\"#ed7953\"],[0.7777777777777778,\"#fb9f3a\"],[0.8888888888888888,\"#fdca26\"],[1.0,\"#f0f921\"]]}],\"surface\":[{\"type\":\"surface\",\"colorbar\":{\"outlinewidth\":0,\"ticks\":\"\"},\"colorscale\":[[0.0,\"#0d0887\"],[0.1111111111111111,\"#46039f\"],[0.2222222222222222,\"#7201a8\"],[0.3333333333333333,\"#9c179e\"],[0.4444444444444444,\"#bd3786\"],[0.5555555555555556,\"#d8576b\"],[0.6666666666666666,\"#ed7953\"],[0.7777777777777778,\"#fb9f3a\"],[0.8888888888888888,\"#fdca26\"],[1.0,\"#f0f921\"]]}],\"mesh3d\":[{\"type\":\"mesh3d\",\"colorbar\":{\"outlinewidth\":0,\"ticks\":\"\"}}],\"scatter\":[{\"fillpattern\":{\"fillmode\":\"overlay\",\"size\":10,\"solidity\":0.2},\"type\":\"scatter\"}],\"parcoords\":[{\"type\":\"parcoords\",\"line\":{\"colorbar\":{\"outlinewidth\":0,\"ticks\":\"\"}}}],\"scatterpolargl\":[{\"type\":\"scatterpolargl\",\"marker\":{\"colorbar\":{\"outlinewidth\":0,\"ticks\":\"\"}}}],\"bar\":[{\"error_x\":{\"color\":\"#2a3f5f\"},\"error_y\":{\"color\":\"#2a3f5f\"},\"marker\":{\"line\":{\"color\":\"#E5ECF6\",\"width\":0.5},\"pattern\":{\"fillmode\":\"overlay\",\"size\":10,\"solidity\":0.2}},\"type\":\"bar\"}],\"scattergeo\":[{\"type\":\"scattergeo\",\"marker\":{\"colorbar\":{\"outlinewidth\":0,\"ticks\":\"\"}}}],\"scatterpolar\":[{\"type\":\"scatterpolar\",\"marker\":{\"colorbar\":{\"outlinewidth\":0,\"ticks\":\"\"}}}],\"histogram\":[{\"marker\":{\"pattern\":{\"fillmode\":\"overlay\",\"size\":10,\"solidity\":0.2}},\"type\":\"histogram\"}],\"scattergl\":[{\"type\":\"scattergl\",\"marker\":{\"colorbar\":{\"outlinewidth\":0,\"ticks\":\"\"}}}],\"scatter3d\":[{\"type\":\"scatter3d\",\"line\":{\"colorbar\":{\"outlinewidth\":0,\"ticks\":\"\"}},\"marker\":{\"colorbar\":{\"outlinewidth\":0,\"ticks\":\"\"}}}],\"scattermapbox\":[{\"type\":\"scattermapbox\",\"marker\":{\"colorbar\":{\"outlinewidth\":0,\"ticks\":\"\"}}}],\"scatterternary\":[{\"type\":\"scatterternary\",\"marker\":{\"colorbar\":{\"outlinewidth\":0,\"ticks\":\"\"}}}],\"scattercarpet\":[{\"type\":\"scattercarpet\",\"marker\":{\"colorbar\":{\"outlinewidth\":0,\"ticks\":\"\"}}}],\"carpet\":[{\"aaxis\":{\"endlinecolor\":\"#2a3f5f\",\"gridcolor\":\"white\",\"linecolor\":\"white\",\"minorgridcolor\":\"white\",\"startlinecolor\":\"#2a3f5f\"},\"baxis\":{\"endlinecolor\":\"#2a3f5f\",\"gridcolor\":\"white\",\"linecolor\":\"white\",\"minorgridcolor\":\"white\",\"startlinecolor\":\"#2a3f5f\"},\"type\":\"carpet\"}],\"table\":[{\"cells\":{\"fill\":{\"color\":\"#EBF0F8\"},\"line\":{\"color\":\"white\"}},\"header\":{\"fill\":{\"color\":\"#C8D4E3\"},\"line\":{\"color\":\"white\"}},\"type\":\"table\"}],\"barpolar\":[{\"marker\":{\"line\":{\"color\":\"#E5ECF6\",\"width\":0.5},\"pattern\":{\"fillmode\":\"overlay\",\"size\":10,\"solidity\":0.2}},\"type\":\"barpolar\"}],\"pie\":[{\"automargin\":true,\"type\":\"pie\"}]},\"layout\":{\"autotypenumbers\":\"strict\",\"colorway\":[\"#636efa\",\"#EF553B\",\"#00cc96\",\"#ab63fa\",\"#FFA15A\",\"#19d3f3\",\"#FF6692\",\"#B6E880\",\"#FF97FF\",\"#FECB52\"],\"font\":{\"color\":\"#2a3f5f\"},\"hovermode\":\"closest\",\"hoverlabel\":{\"align\":\"left\"},\"paper_bgcolor\":\"white\",\"plot_bgcolor\":\"#E5ECF6\",\"polar\":{\"bgcolor\":\"#E5ECF6\",\"angularaxis\":{\"gridcolor\":\"white\",\"linecolor\":\"white\",\"ticks\":\"\"},\"radialaxis\":{\"gridcolor\":\"white\",\"linecolor\":\"white\",\"ticks\":\"\"}},\"ternary\":{\"bgcolor\":\"#E5ECF6\",\"aaxis\":{\"gridcolor\":\"white\",\"linecolor\":\"white\",\"ticks\":\"\"},\"baxis\":{\"gridcolor\":\"white\",\"linecolor\":\"white\",\"ticks\":\"\"},\"caxis\":{\"gridcolor\":\"white\",\"linecolor\":\"white\",\"ticks\":\"\"}},\"coloraxis\":{\"colorbar\":{\"outlinewidth\":0,\"ticks\":\"\"}},\"colorscale\":{\"sequential\":[[0.0,\"#0d0887\"],[0.1111111111111111,\"#46039f\"],[0.2222222222222222,\"#7201a8\"],[0.3333333333333333,\"#9c179e\"],[0.4444444444444444,\"#bd3786\"],[0.5555555555555556,\"#d8576b\"],[0.6666666666666666,\"#ed7953\"],[0.7777777777777778,\"#fb9f3a\"],[0.8888888888888888,\"#fdca26\"],[1.0,\"#f0f921\"]],\"sequentialminus\":[[0.0,\"#0d0887\"],[0.1111111111111111,\"#46039f\"],[0.2222222222222222,\"#7201a8\"],[0.3333333333333333,\"#9c179e\"],[0.4444444444444444,\"#bd3786\"],[0.5555555555555556,\"#d8576b\"],[0.6666666666666666,\"#ed7953\"],[0.7777777777777778,\"#fb9f3a\"],[0.8888888888888888,\"#fdca26\"],[1.0,\"#f0f921\"]],\"diverging\":[[0,\"#8e0152\"],[0.1,\"#c51b7d\"],[0.2,\"#de77ae\"],[0.3,\"#f1b6da\"],[0.4,\"#fde0ef\"],[0.5,\"#f7f7f7\"],[0.6,\"#e6f5d0\"],[0.7,\"#b8e186\"],[0.8,\"#7fbc41\"],[0.9,\"#4d9221\"],[1,\"#276419\"]]},\"xaxis\":{\"gridcolor\":\"white\",\"linecolor\":\"white\",\"ticks\":\"\",\"title\":{\"standoff\":15},\"zerolinecolor\":\"white\",\"automargin\":true,\"zerolinewidth\":2},\"yaxis\":{\"gridcolor\":\"white\",\"linecolor\":\"white\",\"ticks\":\"\",\"title\":{\"standoff\":15},\"zerolinecolor\":\"white\",\"automargin\":true,\"zerolinewidth\":2},\"scene\":{\"xaxis\":{\"backgroundcolor\":\"#E5ECF6\",\"gridcolor\":\"white\",\"linecolor\":\"white\",\"showbackground\":true,\"ticks\":\"\",\"zerolinecolor\":\"white\",\"gridwidth\":2},\"yaxis\":{\"backgroundcolor\":\"#E5ECF6\",\"gridcolor\":\"white\",\"linecolor\":\"white\",\"showbackground\":true,\"ticks\":\"\",\"zerolinecolor\":\"white\",\"gridwidth\":2},\"zaxis\":{\"backgroundcolor\":\"#E5ECF6\",\"gridcolor\":\"white\",\"linecolor\":\"white\",\"showbackground\":true,\"ticks\":\"\",\"zerolinecolor\":\"white\",\"gridwidth\":2}},\"shapedefaults\":{\"line\":{\"color\":\"#2a3f5f\"}},\"annotationdefaults\":{\"arrowcolor\":\"#2a3f5f\",\"arrowhead\":0,\"arrowwidth\":1},\"geo\":{\"bgcolor\":\"white\",\"landcolor\":\"#E5ECF6\",\"subunitcolor\":\"white\",\"showland\":true,\"showlakes\":true,\"lakecolor\":\"white\"},\"title\":{\"x\":0.05},\"mapbox\":{\"style\":\"light\"}}},\"xaxis\":{\"anchor\":\"y\",\"domain\":[0.0,1.0],\"title\":{\"text\":\"label\"}},\"yaxis\":{\"anchor\":\"x\",\"domain\":[0.0,1.0],\"title\":{\"text\":\"count\"}},\"legend\":{\"tracegroupgap\":0},\"title\":{\"text\":\"label distribution\"},\"barmode\":\"relative\"},                        {\"responsive\": true}                    ).then(function(){\n                            \nvar gd = document.getElementById('b43ba1f5-d591-4c19-bf56-a8434f3389b0');\nvar x = new MutationObserver(function (mutations, observer) {{\n        var display = window.getComputedStyle(gd).display;\n        if (!display || display === 'none') {{\n            console.log([gd, 'removed!']);\n            Plotly.purge(gd);\n            observer.disconnect();\n        }}\n}});\n\n// Listen for the removal of the full notebook cells\nvar notebookContainer = gd.closest('#notebook-container');\nif (notebookContainer) {{\n    x.observe(notebookContainer, {childList: true});\n}}\n\n// Listen for the clearing of the current output cell\nvar outputEl = gd.closest('.output');\nif (outputEl) {{\n    x.observe(outputEl, {childList: true});\n}}\n\n                        })                };                });            </script>        </div>"
     },
     "metadata": {},
     "output_type": "display_data"
    }
   ],
   "source": [
    "import plotly.express as px\n",
    "\n",
    "fig = px.histogram(df.sort_values(by='label'), x='label', title='label distribution')\n",
    "fig.show()"
   ],
   "metadata": {
    "collapsed": false,
    "ExecuteTime": {
     "end_time": "2024-03-29T08:44:22.256968500Z",
     "start_time": "2024-03-29T08:44:22.185295Z"
    }
   },
   "id": "84ab3028c8e5896c"
  },
  {
   "cell_type": "code",
   "execution_count": null,
   "outputs": [],
   "source": [],
   "metadata": {
    "collapsed": false
   },
   "id": "4d35ef1c52eacf23"
  }
 ],
 "metadata": {
  "kernelspec": {
   "name": "cdss",
   "language": "python",
   "display_name": "cdss"
  },
  "language_info": {
   "codemirror_mode": {
    "name": "ipython",
    "version": 2
   },
   "file_extension": ".py",
   "mimetype": "text/x-python",
   "name": "python",
   "nbconvert_exporter": "python",
   "pygments_lexer": "ipython2",
   "version": "2.7.6"
  }
 },
 "nbformat": 4,
 "nbformat_minor": 5
}
