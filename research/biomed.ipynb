{
 "cells": [
  {
   "cell_type": "code",
   "execution_count": 46,
   "outputs": [],
   "source": [
    "from pathlib import Path\n",
    "\n",
    "import pandas as pd\n",
    "\n",
    "\n",
    "def parse_nih_data(csv_path: str | Path, nih_data_path: str | Path, boxes=False) -> pd.DataFrame:\n",
    "    nih_df = pd.read_csv(csv_path)\n",
    "    nih_df = nih_df.rename(\n",
    "        dict(zip(nih_df.columns.tolist(),\n",
    "                 ['image_idx', 'label', 'bbox_x', 'bbox_y', 'bbox_w', 'bbox_h', 'a', 'b', 'c'])),\n",
    "        axis='columns')\n",
    "    if boxes:\n",
    "        res_list = ['image_idx', 'label', 'bbox_x', 'bbox_y', 'bbox_w', 'bbox_h']\n",
    "    else:\n",
    "        res_list = ['image_idx', 'label']\n",
    "\n",
    "    nih_df = nih_df[res_list]\n",
    "    nih_df['image_path'] = nih_df['image_idx'].apply(lambda x: str(Path(nih_data_path) / x))\n",
    "    nih_df = nih_df.drop_duplicates(subset='image_idx')\n",
    "    nih_df['parsed_label'] = nih_df['label'].apply(lambda x: x.split('|'))\n",
    "    return nih_df\n",
    "\n",
    "\n",
    "df = parse_nih_data('../data/nih_data/balanced_data.csv', '../data/nih_data/selected_images')"
   ],
   "metadata": {
    "collapsed": false,
    "ExecuteTime": {
     "end_time": "2024-03-28T16:23:27.628453700Z",
     "start_time": "2024-03-28T16:23:27.539980400Z"
    }
   },
   "id": "5a5b257edb23db86"
  },
  {
   "cell_type": "code",
   "execution_count": 47,
   "outputs": [],
   "source": [
    "\n",
    "\n",
    "import torch\n",
    "from transformers import CLIPProcessor, CLIPModel\n",
    "\n",
    "model = CLIPModel.from_pretrained(\"flaviagiammarino/pubmed-clip-vit-base-patch32\")\n",
    "processor = CLIPProcessor.from_pretrained(\"flaviagiammarino/pubmed-clip-vit-base-patch32\")\n"
   ],
   "metadata": {
    "collapsed": false,
    "ExecuteTime": {
     "end_time": "2024-03-28T16:23:29.284035500Z",
     "start_time": "2024-03-28T16:23:27.585013Z"
    }
   },
   "id": "eb3ced5ca7b3be79"
  },
  {
   "cell_type": "code",
   "execution_count": 187,
   "outputs": [],
   "source": [
    "disease_descriptors = {\n",
    "\n",
    "    \"Cardiomegaly\": [\n",
    "        \"Increased size of the heart shadow\",\n",
    "        \"Enlargement of the heart silhouette\",\n",
    "        \"Increased diameter of the heart border\",\n",
    "        \"Increased cardiothoracic ratio\"\n",
    "    ],\n",
    "    \"Edema\": [\n",
    "        \"Blurry vascular markings in the lungs\",\n",
    "        \"Kerley B lines\",\n",
    "        \"Increased interstitial markings in the lungs\",\n",
    "        \"Widening of interstitial spaces\"\n",
    "    ],\n",
    "    \"Consolidation\": [\n",
    "        \"Loss of lung volume\",\n",
    "        \"Increased density of lung tissue\",\n",
    "        \"Obliteration of the diaphragmatic silhouette\",\n",
    "        \"Presence of opacities\"\n",
    "    ],\n",
    "    \"Pneumonia\": [\n",
    "        \"Consolidation of lung tissue\",\n",
    "        \"Air bronchograms\",\n",
    "        \"Cavitation\",\n",
    "        \"Interstitial opacities\"\n",
    "    ],\n",
    "    \"Atelectasis\": [\n",
    "        \"Increased opacity\",\n",
    "        \"Volume loss of the affected lung region\",\n",
    "        \"Displacement of the diaphragm\",\n",
    "        \"Blunting of the costophrenic angle\",\n",
    "        \"Shifting of the mediastinum\"\n",
    "      ],\n",
    "    \"Pneumothorax\": [\n",
    "        \"Tracheal deviation\",\n",
    "        \"Deep sulcus sign\",\n",
    "        \"Increased radiolucency\",\n",
    "        \"Flattening of the hemidiaphragm\",\n",
    "        \"Absence of lung markings\",\n",
    "        \"Shifting of the mediastinum\"\n",
    "      ],\n",
    "    \"Pleural Effusion\": [\n",
    "        \"Blunting of costophrenic angles\",\n",
    "        \"Opacity in the lower lung fields\",\n",
    "        \"Mediastinal shift\",\n",
    "        \"Reduced lung volume\",\n",
    "        \"Meniscus sign or veil-like appearance\"\n",
    "      ],\n",
    "    \"Infiltration\": [\n",
    "        \"Irregular or fuzzy borders around white areas\",\n",
    "        \"Blurring\",\n",
    "        \"Hazy or cloudy areas\",\n",
    "        \"Increased density or opacity of lung tissue\",\n",
    "        \"Air bronchograms\",\n",
    "      ],\n",
    "      \"Mass\": [\n",
    "        \"Calcifications or mineralizations\",\n",
    "        \"Shadowing\",\n",
    "        \"Distortion or compression of tissues\",\n",
    "        \"Anomalous structure or irregularity in shape\"\n",
    "      ],\n",
    "      \"Nodule\": [\n",
    "        \"Nodular shape that protrudes into a cavity or airway\",\n",
    "        \"Distinct edges or borders\",\n",
    "        \"Calcifications or speckled areas\",\n",
    "        \"Small round oral shaped spots\",\n",
    "        \"White shadows\"\n",
    "      ],\n",
    "      \"Emphysema\": [\n",
    "        \"Flattened hemidiaphragm\",\n",
    "        \"Pulmonary bullae\",\n",
    "        \"Hyperlucent lungs\",\n",
    "        \"Horizontalisation of ribs\",\n",
    "        \"Barrel Chest\",\n",
    "      ],\n",
    "      \"Fibrosis\": [\n",
    "        \"Reticular shadowing of the lung peripheries\",\n",
    "        \"Volume loss\",\n",
    "        \"Thickened and irregular interstitial markings\",\n",
    "        \"Bronchial dilation\",\n",
    "        \"Shaggy heart borders\"\n",
    "      ],\n",
    "      \"Pleural Thickening\": [\n",
    "        \"Thickened pleural line\",\n",
    "        \"Loss of sharpness of the mediastinal border\",\n",
    "        \"Calcifications on the pleura\",\n",
    "        \"Lobulated peripheral shadowing\",\n",
    "        \"Loss of lung volume\",\n",
    "      ],\n",
    "      \"Hernia\": [\n",
    "        \"Bulge or swelling in the abdominal wall\",\n",
    "        \"Protrusion of intestine or other abdominal tissue\",\n",
    "        \"Swelling or enlargement of the herniated sac or surrounding tissues\",\n",
    "        \"Retro-cardiac air-fluid level\",\n",
    "        \"Thickening of intestinal folds\"\n",
    "      ]\n",
    "    }"
   ],
   "metadata": {
    "collapsed": false,
    "ExecuteTime": {
     "end_time": "2024-03-28T17:11:03.539820800Z",
     "start_time": "2024-03-28T17:11:03.523267200Z"
    }
   },
   "id": "83c9c87694596bd2"
  },
  {
   "cell_type": "markdown",
   "source": [],
   "metadata": {
    "collapsed": false
   },
   "id": "cbc8b3517ff0f391"
  },
  {
   "cell_type": "code",
   "execution_count": 188,
   "outputs": [],
   "source": [
    "\n",
    "\n",
    "\n",
    "def calculate_text_embeddings(clip_model, clip_preprocess, disease_text: list[str]) -> torch.Tensor:\n",
    "    tokenized_text = clip_preprocess(disease_text, return_tensors=\"pt\", padding=True).input_ids\n",
    "    text_embeddings = clip_model.get_text_features(tokenized_text).detach()\n",
    "    return text_embeddings\n",
    "\n",
    "\n",
    "def calculate_image_embeddings(clip_model, clip_preprocess, images: list[any]) -> torch.Tensor:\n",
    "    inputs = clip_preprocess(text=None, images=images, return_tensors=\"pt\")\n",
    "    image_embedding = clip_model.get_image_features(**inputs).detach()\n",
    "    return image_embedding"
   ],
   "metadata": {
    "collapsed": false,
    "ExecuteTime": {
     "end_time": "2024-03-28T17:11:04.058104100Z",
     "start_time": "2024-03-28T17:11:04.038591400Z"
    }
   },
   "id": "7242e6cd71dc9623"
  },
  {
   "cell_type": "code",
   "execution_count": 219,
   "outputs": [],
   "source": [
    "\n",
    "\n",
    "disease_descriptors = {\n",
    "i: list(map(lambda x: f' a chest x-ray with {x},  i', v)) for i, v in disease_descriptors.items()}"
   ],
   "metadata": {
    "collapsed": false,
    "ExecuteTime": {
     "end_time": "2024-03-28T17:14:55.160672800Z",
     "start_time": "2024-03-28T17:14:55.141979600Z"
    }
   },
   "id": "57471f7d4238873"
  },
  {
   "cell_type": "code",
   "execution_count": null,
   "outputs": [],
   "source": [],
   "metadata": {
    "collapsed": false
   },
   "id": "b8555d5eac5886ac"
  },
  {
   "cell_type": "code",
   "execution_count": 220,
   "outputs": [
    {
     "data": {
      "text/plain": "{'Cardiomegaly': [' a chest x-ray with Cardiomegaly',\n  ' a chest x-ray with Cardiomegaly',\n  ' a chest x-ray with Cardiomegaly',\n  ' a chest x-ray with Cardiomegaly'],\n 'Edema': [' a chest x-ray with Edema',\n  ' a chest x-ray with Edema',\n  ' a chest x-ray with Edema',\n  ' a chest x-ray with Edema'],\n 'Consolidation': [' a chest x-ray with Consolidation',\n  ' a chest x-ray with Consolidation',\n  ' a chest x-ray with Consolidation',\n  ' a chest x-ray with Consolidation'],\n 'Pneumonia': [' a chest x-ray with Pneumonia',\n  ' a chest x-ray with Pneumonia',\n  ' a chest x-ray with Pneumonia',\n  ' a chest x-ray with Pneumonia'],\n 'Atelectasis': [' a chest x-ray with Atelectasis',\n  ' a chest x-ray with Atelectasis',\n  ' a chest x-ray with Atelectasis',\n  ' a chest x-ray with Atelectasis',\n  ' a chest x-ray with Atelectasis'],\n 'Pneumothorax': [' a chest x-ray with Pneumothorax',\n  ' a chest x-ray with Pneumothorax',\n  ' a chest x-ray with Pneumothorax',\n  ' a chest x-ray with Pneumothorax',\n  ' a chest x-ray with Pneumothorax',\n  ' a chest x-ray with Pneumothorax'],\n 'Pleural Effusion': [' a chest x-ray with Pleural Effusion',\n  ' a chest x-ray with Pleural Effusion',\n  ' a chest x-ray with Pleural Effusion',\n  ' a chest x-ray with Pleural Effusion',\n  ' a chest x-ray with Pleural Effusion'],\n 'Infiltration': [' a chest x-ray with Infiltration',\n  ' a chest x-ray with Infiltration',\n  ' a chest x-ray with Infiltration',\n  ' a chest x-ray with Infiltration',\n  ' a chest x-ray with Infiltration'],\n 'Mass': [' a chest x-ray with Mass',\n  ' a chest x-ray with Mass',\n  ' a chest x-ray with Mass',\n  ' a chest x-ray with Mass'],\n 'Nodule': [' a chest x-ray with Nodule',\n  ' a chest x-ray with Nodule',\n  ' a chest x-ray with Nodule',\n  ' a chest x-ray with Nodule',\n  ' a chest x-ray with Nodule'],\n 'Emphysema': [' a chest x-ray with Emphysema',\n  ' a chest x-ray with Emphysema',\n  ' a chest x-ray with Emphysema',\n  ' a chest x-ray with Emphysema',\n  ' a chest x-ray with Emphysema'],\n 'Fibrosis': [' a chest x-ray with Fibrosis',\n  ' a chest x-ray with Fibrosis',\n  ' a chest x-ray with Fibrosis',\n  ' a chest x-ray with Fibrosis',\n  ' a chest x-ray with Fibrosis'],\n 'Pleural Thickening': [' a chest x-ray with Pleural Thickening',\n  ' a chest x-ray with Pleural Thickening',\n  ' a chest x-ray with Pleural Thickening',\n  ' a chest x-ray with Pleural Thickening',\n  ' a chest x-ray with Pleural Thickening'],\n 'Hernia': [' a chest x-ray with Hernia',\n  ' a chest x-ray with Hernia',\n  ' a chest x-ray with Hernia',\n  ' a chest x-ray with Hernia',\n  ' a chest x-ray with Hernia']}"
     },
     "execution_count": 220,
     "metadata": {},
     "output_type": "execute_result"
    }
   ],
   "source": [
    "disease_descriptors"
   ],
   "metadata": {
    "collapsed": false,
    "ExecuteTime": {
     "end_time": "2024-03-28T17:14:55.689198400Z",
     "start_time": "2024-03-28T17:14:55.665628400Z"
    }
   },
   "id": "df46ae4fd5bbd854"
  },
  {
   "cell_type": "code",
   "execution_count": 232,
   "outputs": [],
   "source": [
    "desc_embs = {label: calculate_text_embeddings(model, processor, [f' a chest x-ray with {label}']) for label, descs in\n",
    "             disease_descriptors.items()}"
   ],
   "metadata": {
    "collapsed": false,
    "ExecuteTime": {
     "end_time": "2024-03-28T17:16:21.473439400Z",
     "start_time": "2024-03-28T17:16:21.188421200Z"
    }
   },
   "id": "82c8c3c26eb3a37a"
  },
  {
   "cell_type": "code",
   "execution_count": 232,
   "outputs": [],
   "source": [],
   "metadata": {
    "collapsed": false,
    "ExecuteTime": {
     "end_time": "2024-03-28T17:16:21.587148900Z",
     "start_time": "2024-03-28T17:16:21.577638800Z"
    }
   },
   "id": "273ad5070e68af1b"
  },
  {
   "cell_type": "code",
   "execution_count": 233,
   "outputs": [
    {
     "data": {
      "text/plain": "torch.Size([1, 512])"
     },
     "execution_count": 233,
     "metadata": {},
     "output_type": "execute_result"
    }
   ],
   "source": [
    "list(desc_embs.values())[0].shape"
   ],
   "metadata": {
    "collapsed": false,
    "ExecuteTime": {
     "end_time": "2024-03-28T17:16:21.864096400Z",
     "start_time": "2024-03-28T17:16:21.830950900Z"
    }
   },
   "id": "10ebc32a2e99986b"
  },
  {
   "cell_type": "code",
   "execution_count": 234,
   "outputs": [],
   "source": [
    "# desc_embs = {label: embs.mean(dim=0, keepdim=True) for label, embs in desc_embs.items()}\n",
    "# desc_embs"
   ],
   "metadata": {
    "collapsed": false,
    "ExecuteTime": {
     "end_time": "2024-03-28T17:16:22.064236200Z",
     "start_time": "2024-03-28T17:16:22.041197900Z"
    }
   },
   "id": "1b84c016a16ff3b1"
  },
  {
   "cell_type": "code",
   "execution_count": 235,
   "outputs": [
    {
     "data": {
      "text/plain": "dict_keys(['Cardiomegaly', 'Edema', 'Consolidation', 'Pneumonia', 'Atelectasis', 'Pneumothorax', 'Pleural Effusion', 'Infiltration', 'Mass', 'Nodule', 'Emphysema', 'Fibrosis', 'Pleural Thickening', 'Hernia'])"
     },
     "execution_count": 235,
     "metadata": {},
     "output_type": "execute_result"
    }
   ],
   "source": [
    "desc_embs.keys()"
   ],
   "metadata": {
    "collapsed": false,
    "ExecuteTime": {
     "end_time": "2024-03-28T17:16:22.224488400Z",
     "start_time": "2024-03-28T17:16:22.214249700Z"
    }
   },
   "id": "8865e7dc1640cbfb"
  },
  {
   "cell_type": "code",
   "execution_count": 236,
   "outputs": [],
   "source": [
    "from PIL import Image\n",
    "\n",
    "row = df.iloc[3]\n",
    "label = row[\"label\"].split('|')\n",
    "image_path = row[\"image_path\"]\n",
    "image_emb = calculate_image_embeddings(clip_model=model, clip_preprocess=processor, images=[Image.open(image_path)])"
   ],
   "metadata": {
    "collapsed": false,
    "ExecuteTime": {
     "end_time": "2024-03-28T17:16:22.516803700Z",
     "start_time": "2024-03-28T17:16:22.415567400Z"
    }
   },
   "id": "dd978f3bcadf400a"
  },
  {
   "cell_type": "code",
   "execution_count": 238,
   "outputs": [
    {
     "name": "stdout",
     "output_type": "stream",
     "text": [
      "Edema|Infiltration\n",
      "('Cardiomegaly', tensor(0.2613))\n",
      "('Edema', tensor(0.2614))\n",
      "('Consolidation', tensor(0.2629))\n",
      "('Pneumonia', tensor(0.2651))\n",
      "('Atelectasis', tensor(0.2771))\n",
      "('Pneumothorax', tensor(0.2666))\n",
      "('Pleural Effusion', tensor(0.2711))\n",
      "('Infiltration', tensor(0.2698))\n",
      "('Mass', tensor(0.2536))\n",
      "('Nodule', tensor(0.2463))\n",
      "('Emphysema', tensor(0.2638))\n",
      "('Fibrosis', tensor(0.2644))\n",
      "('Pleural Thickening', tensor(0.2647))\n",
      "('Hernia', tensor(0.2602))\n"
     ]
    }
   ],
   "source": [
    "sims = []\n",
    "print(row['label'])\n",
    "avg_emb = torch.stack(list(desc_embs.values())).squeeze()\n",
    "# for label, text_embs in desc_embs.items():\n",
    "cos_sim = (torch.nn.functional.cosine_similarity(image_emb, avg_emb))\n",
    "cos_dict = (dict(zip(desc_embs.keys(), cos_sim)))\n",
    "for c, v in cos_dict.items():\n",
    "        print((c, v))\n",
    "#     print(f'{label} :  {cos_sim}')\n",
    "#     sims.append(torch.max(cos_sim))\n",
    "# print(sims)\n",
    "\n"
   ],
   "metadata": {
    "collapsed": false,
    "ExecuteTime": {
     "end_time": "2024-03-28T17:16:31.966956700Z",
     "start_time": "2024-03-28T17:16:31.950363Z"
    }
   },
   "id": "2374097e90c6099b"
  },
  {
   "cell_type": "code",
   "execution_count": 237,
   "outputs": [],
   "source": [],
   "metadata": {
    "collapsed": false,
    "ExecuteTime": {
     "end_time": "2024-03-28T17:16:23.402840800Z",
     "start_time": "2024-03-28T17:16:23.396822Z"
    }
   },
   "id": "26d60e7d080aa816"
  },
  {
   "cell_type": "code",
   "execution_count": 237,
   "outputs": [],
   "source": [
    "\n",
    "\n"
   ],
   "metadata": {
    "collapsed": false,
    "ExecuteTime": {
     "end_time": "2024-03-28T17:16:23.788335700Z",
     "start_time": "2024-03-28T17:16:23.773093200Z"
    }
   },
   "id": "9dbd13d5489b28b7"
  },
  {
   "cell_type": "code",
   "execution_count": 56,
   "outputs": [],
   "source": [
    "# stacked_avg_embeddings = torch.stack(list(label_avg_embeddings)).squeeze()"
   ],
   "metadata": {
    "collapsed": false,
    "ExecuteTime": {
     "end_time": "2024-03-28T16:23:30.076040700Z",
     "start_time": "2024-03-28T16:23:30.056197Z"
    }
   },
   "id": "f6d943ab3c68ea4f"
  },
  {
   "cell_type": "code",
   "execution_count": 57,
   "outputs": [],
   "source": [
    "# from tqdm import tqdm\n",
    "# from PIL import Image\n",
    "# \n",
    "# threshold = 0.625\n",
    "# res_df = pd.DataFrame(columns=['image_index', 'preds', 'probas', 'probas_dict', 'thr'])\n",
    "# for index, row in tqdm(list(df.iterrows()), desc='validate'):\n",
    "#     label = row[\"label\"].split('|')\n",
    "#     image_path = row[\"image_path\"]\n",
    "#     image_emb = calculate_image_embeddings(clip_model=model, clip_preprocess=processor, image=Image.open(image_path))\n",
    "#     cos_sim = torch.nn.functional.cosine_similarity(image_emb, stacked_avg_embeddings)\n",
    "#     cos_sim = (cos_sim + 1) / 2\n",
    "#     cos_dict = (dict(zip(labels, list(cos_sim.detach().numpy()))))\n",
    "#     cos_dict = dict(sorted(cos_dict.items(), key=lambda item: item[1], reverse=True))\n",
    "#     preds = []\n",
    "#     probas = []\n",
    "#     for l, v in cos_dict.items():\n",
    "#         if v > threshold:\n",
    "#             preds.append(l)\n",
    "#             probas.append(v)\n",
    "# \n",
    "#     new_row = {\n",
    "#         'image_index': [row['image_idx']],\n",
    "#         'preds': [preds],\n",
    "#         'probas': [probas],\n",
    "#         'probas_dict': [cos_dict],\n",
    "#         'thr': [threshold],\n",
    "#     }\n",
    "#     res_df = pd.concat([res_df, pd.DataFrame(new_row)], ignore_index=True)\n"
   ],
   "metadata": {
    "collapsed": false,
    "ExecuteTime": {
     "end_time": "2024-03-28T16:23:30.085311800Z",
     "start_time": "2024-03-28T16:23:30.070651400Z"
    }
   },
   "id": "1c4d9f5a41c52789"
  },
  {
   "cell_type": "code",
   "execution_count": 57,
   "outputs": [],
   "source": [],
   "metadata": {
    "collapsed": false,
    "ExecuteTime": {
     "end_time": "2024-03-28T16:23:30.106144900Z",
     "start_time": "2024-03-28T16:23:30.086317700Z"
    }
   },
   "id": "4be2d2753fbaa6c5"
  }
 ],
 "metadata": {
  "kernelspec": {
   "name": "cdss",
   "language": "python",
   "display_name": "cdss"
  },
  "language_info": {
   "codemirror_mode": {
    "name": "ipython",
    "version": 2
   },
   "file_extension": ".py",
   "mimetype": "text/x-python",
   "name": "python",
   "nbconvert_exporter": "python",
   "pygments_lexer": "ipython2",
   "version": "2.7.6"
  }
 },
 "nbformat": 4,
 "nbformat_minor": 5
}
